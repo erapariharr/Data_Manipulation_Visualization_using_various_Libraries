{
  "cells": [
    {
      "cell_type": "markdown",
      "metadata": {
        "id": "UGqk3SzXsMR3"
      },
      "source": [
        "# SI 618 - Homework #1: Data Manipulation\n",
        "\n",
        "Version 2023.09.06.01.CT (Fall 2023)"
      ]
    },
    {
      "cell_type": "markdown",
      "metadata": {
        "id": "Crxe7LeXJ9yn"
      },
      "source": [
        "## Background"
      ]
    },
    {
      "cell_type": "markdown",
      "metadata": {
        "id": "1IaTA3GNJ9yo"
      },
      "source": [
        "This homework assignment focuses on the analysis of biometric data and exercise performance."
      ]
    },
    {
      "cell_type": "markdown",
      "metadata": {
        "id": "jae-nANHJ9yp"
      },
      "source": [
        "Your main task in this assignment is to explore the data *using the data\n",
        "manipulation methods we covered in class*, as well as those in the assigned readings and video resources.  You may need to consult pandas documentation, Stack Overflow, Copilot, or other online resources.  \n"
      ]
    },
    {
      "cell_type": "markdown",
      "metadata": {
        "id": "pbqbtPreaCjs"
      },
      "source": [
        "A total of 100 points is available in this homework assignment, broken down as shown beside each question and in the accompanying rubric in Canvas.  Please note that to receive full points, code should conform to  [PEP 8](https://www.python.org/dev/peps/pep-0008/) guidelines, and written responses should be grammatically correct, free of spelling errors, and generally follow the [Strunk & White](https://drive.google.com/file/d/1L0P7xJwjUGBvyb49mL3dw1Bt7hzRTiTl/view) guidelines.  You should review those guidelines before proceding with the assignment."
      ]
    },
    {
      "cell_type": "markdown",
      "metadata": {
        "id": "Pr9WBUQyZY4V",
        "tags": []
      },
      "source": [
        "## Download the data from:\n",
        "https://www.kaggle.com/kukuroo3/body-performance-data\n"
      ]
    },
    {
      "cell_type": "code",
      "execution_count": null,
      "metadata": {
        "id": "f3rMIb-DV1XD"
      },
      "outputs": [],
      "source": [
        "MY_UNIQNAME = 'erap' # please fill in your uniqname"
      ]
    },
    {
      "cell_type": "code",
      "source": [
        "import numpy as np\n",
        "import pandas as pd\n",
        "\n",
        "#load dataset\n",
        "data = pd.read_csv(\"/content/bodyPerformance.csv\")"
      ],
      "metadata": {
        "id": "B2iO9_XFWrk6"
      },
      "execution_count": null,
      "outputs": []
    },
    {
      "cell_type": "markdown",
      "metadata": {
        "id": "8EV1PilWtl0Z"
      },
      "source": [
        "## Answer the following questions.\n",
        "Points for each question are shown below.\n",
        "\n",
        "For each question, you should\n",
        "1. Write code using Python and pandas that can help you answer the following questions, and\n",
        "2. Explain your answers in plain English. You should use complete sentences that would be understood by an educated professional who is not necessarily a data scientist (like a product manager).  When we ask for an explanation of your answer, we are interested in your interpretation of the analyses that you produce.  With the exception of Question 1a, we are not interested in a description of the steps you took to arrive at your answer."
      ]
    },
    {
      "cell_type": "markdown",
      "metadata": {
        "id": "PfjXDtHoabcS",
        "tags": []
      },
      "source": [
        "### <span style=\"color:magenta\"> Q1: 8 pt(total):</span>\n",
        "#### Q1a (3pt): Write out the steps you need to follow in order to describe the dataset, in terms of size, number of rows, and number of columns.\n",
        "\n"
      ]
    },
    {
      "cell_type": "markdown",
      "metadata": {
        "id": "cYHmuu3nV1XG"
      },
      "source": [
        "\n",
        "\n",
        "#After importing relevant libraries and loading the data, we can do the following:\n",
        "\n",
        "* We can use the .shape attribute of the DataFrame to get a tuple where the first element is the number of rows and the second is the number of columns.\n",
        "* we can also find out the size of the dataset i.e. the number of data points in the dataset.\n",
        "* In order to get a sense of the data we use: data.head(), to see some initial rows of data in ordeer to get a better understanding.\n",
        "* Additionally .dtypes can make us aware of the dataypes of the various column present in the dataframe.\n",
        "* lastly we can use .describe() function to get basic statistics of the dataset provided.\n",
        "\n"
      ]
    },
    {
      "cell_type": "markdown",
      "metadata": {
        "id": "gmD__h_2V1XG"
      },
      "source": [
        "#### Q1b (5pt): Write and execute the code that will do the steps you identified in Part (a) of this question."
      ]
    },
    {
      "cell_type": "code",
      "execution_count": null,
      "metadata": {
        "id": "d1T-dTBnV1XG"
      },
      "outputs": [],
      "source": [
        "# put your code here"
      ]
    },
    {
      "cell_type": "code",
      "source": [
        "rows, columns = data.shape\n",
        "print(f\"the dataset has {rows} rows and {columns} columns.\")"
      ],
      "metadata": {
        "colab": {
          "base_uri": "https://localhost:8080/"
        },
        "id": "ZpxtFKp9Y4XM",
        "outputId": "638b6872-34c7-4ec7-9155-0e1b9790654a"
      },
      "execution_count": null,
      "outputs": [
        {
          "output_type": "stream",
          "name": "stdout",
          "text": [
            "the dataset has 13393 rows and 12 columns.\n"
          ]
        }
      ]
    },
    {
      "cell_type": "code",
      "source": [
        "size = data.size\n",
        "print(f\"the dataset has {size} data points\")"
      ],
      "metadata": {
        "colab": {
          "base_uri": "https://localhost:8080/"
        },
        "id": "XLHHcgn0ZRgD",
        "outputId": "5dbc3ab7-2169-4392-bca8-9e57dcb2ca7a"
      },
      "execution_count": null,
      "outputs": [
        {
          "output_type": "stream",
          "name": "stdout",
          "text": [
            "the dataset has 160716 data points\n"
          ]
        }
      ]
    },
    {
      "cell_type": "code",
      "source": [
        "data.gender.value_counts()"
      ],
      "metadata": {
        "colab": {
          "base_uri": "https://localhost:8080/"
        },
        "id": "egLwAsdixnXc",
        "outputId": "af331504-dd2a-4b28-ee80-e6e8f02d6f4e"
      },
      "execution_count": null,
      "outputs": [
        {
          "output_type": "execute_result",
          "data": {
            "text/plain": [
              "M    8467\n",
              "F    4926\n",
              "Name: gender, dtype: int64"
            ]
          },
          "metadata": {},
          "execution_count": 125
        }
      ]
    },
    {
      "cell_type": "code",
      "source": [
        "data.head()"
      ],
      "metadata": {
        "colab": {
          "base_uri": "https://localhost:8080/",
          "height": 224
        },
        "id": "OB8dLy9uWpuQ",
        "outputId": "c55f1536-2952-4de9-c503-d73746491b87"
      },
      "execution_count": null,
      "outputs": [
        {
          "output_type": "execute_result",
          "data": {
            "text/plain": [
              "    age gender  height_cm  weight_kg  body fat_%  diastolic  systolic  \\\n",
              "0  27.0      M      172.3      75.24        21.3       80.0     130.0   \n",
              "1  25.0      M      165.0      55.80        15.7       77.0     126.0   \n",
              "2  31.0      M      179.6      78.00        20.1       92.0     152.0   \n",
              "3  32.0      M      174.5      71.10        18.4       76.0     147.0   \n",
              "4  28.0      M      173.8      67.70        17.1       70.0     127.0   \n",
              "\n",
              "   gripForce  sit and bend forward_cm  sit-ups counts  broad jump_cm class  \n",
              "0       54.9                     18.4            60.0          217.0     C  \n",
              "1       36.4                     16.3            53.0          229.0     A  \n",
              "2       44.8                     12.0            49.0          181.0     C  \n",
              "3       41.4                     15.2            53.0          219.0     B  \n",
              "4       43.5                     27.1            45.0          217.0     B  "
            ],
            "text/html": [
              "\n",
              "  <div id=\"df-1872e849-5b3f-4861-8cd3-1c9b8f2cc0b7\" class=\"colab-df-container\">\n",
              "    <div>\n",
              "<style scoped>\n",
              "    .dataframe tbody tr th:only-of-type {\n",
              "        vertical-align: middle;\n",
              "    }\n",
              "\n",
              "    .dataframe tbody tr th {\n",
              "        vertical-align: top;\n",
              "    }\n",
              "\n",
              "    .dataframe thead th {\n",
              "        text-align: right;\n",
              "    }\n",
              "</style>\n",
              "<table border=\"1\" class=\"dataframe\">\n",
              "  <thead>\n",
              "    <tr style=\"text-align: right;\">\n",
              "      <th></th>\n",
              "      <th>age</th>\n",
              "      <th>gender</th>\n",
              "      <th>height_cm</th>\n",
              "      <th>weight_kg</th>\n",
              "      <th>body fat_%</th>\n",
              "      <th>diastolic</th>\n",
              "      <th>systolic</th>\n",
              "      <th>gripForce</th>\n",
              "      <th>sit and bend forward_cm</th>\n",
              "      <th>sit-ups counts</th>\n",
              "      <th>broad jump_cm</th>\n",
              "      <th>class</th>\n",
              "    </tr>\n",
              "  </thead>\n",
              "  <tbody>\n",
              "    <tr>\n",
              "      <th>0</th>\n",
              "      <td>27.0</td>\n",
              "      <td>M</td>\n",
              "      <td>172.3</td>\n",
              "      <td>75.24</td>\n",
              "      <td>21.3</td>\n",
              "      <td>80.0</td>\n",
              "      <td>130.0</td>\n",
              "      <td>54.9</td>\n",
              "      <td>18.4</td>\n",
              "      <td>60.0</td>\n",
              "      <td>217.0</td>\n",
              "      <td>C</td>\n",
              "    </tr>\n",
              "    <tr>\n",
              "      <th>1</th>\n",
              "      <td>25.0</td>\n",
              "      <td>M</td>\n",
              "      <td>165.0</td>\n",
              "      <td>55.80</td>\n",
              "      <td>15.7</td>\n",
              "      <td>77.0</td>\n",
              "      <td>126.0</td>\n",
              "      <td>36.4</td>\n",
              "      <td>16.3</td>\n",
              "      <td>53.0</td>\n",
              "      <td>229.0</td>\n",
              "      <td>A</td>\n",
              "    </tr>\n",
              "    <tr>\n",
              "      <th>2</th>\n",
              "      <td>31.0</td>\n",
              "      <td>M</td>\n",
              "      <td>179.6</td>\n",
              "      <td>78.00</td>\n",
              "      <td>20.1</td>\n",
              "      <td>92.0</td>\n",
              "      <td>152.0</td>\n",
              "      <td>44.8</td>\n",
              "      <td>12.0</td>\n",
              "      <td>49.0</td>\n",
              "      <td>181.0</td>\n",
              "      <td>C</td>\n",
              "    </tr>\n",
              "    <tr>\n",
              "      <th>3</th>\n",
              "      <td>32.0</td>\n",
              "      <td>M</td>\n",
              "      <td>174.5</td>\n",
              "      <td>71.10</td>\n",
              "      <td>18.4</td>\n",
              "      <td>76.0</td>\n",
              "      <td>147.0</td>\n",
              "      <td>41.4</td>\n",
              "      <td>15.2</td>\n",
              "      <td>53.0</td>\n",
              "      <td>219.0</td>\n",
              "      <td>B</td>\n",
              "    </tr>\n",
              "    <tr>\n",
              "      <th>4</th>\n",
              "      <td>28.0</td>\n",
              "      <td>M</td>\n",
              "      <td>173.8</td>\n",
              "      <td>67.70</td>\n",
              "      <td>17.1</td>\n",
              "      <td>70.0</td>\n",
              "      <td>127.0</td>\n",
              "      <td>43.5</td>\n",
              "      <td>27.1</td>\n",
              "      <td>45.0</td>\n",
              "      <td>217.0</td>\n",
              "      <td>B</td>\n",
              "    </tr>\n",
              "  </tbody>\n",
              "</table>\n",
              "</div>\n",
              "    <div class=\"colab-df-buttons\">\n",
              "\n",
              "  <div class=\"colab-df-container\">\n",
              "    <button class=\"colab-df-convert\" onclick=\"convertToInteractive('df-1872e849-5b3f-4861-8cd3-1c9b8f2cc0b7')\"\n",
              "            title=\"Convert this dataframe to an interactive table.\"\n",
              "            style=\"display:none;\">\n",
              "\n",
              "  <svg xmlns=\"http://www.w3.org/2000/svg\" height=\"24px\" viewBox=\"0 -960 960 960\">\n",
              "    <path d=\"M120-120v-720h720v720H120Zm60-500h600v-160H180v160Zm220 220h160v-160H400v160Zm0 220h160v-160H400v160ZM180-400h160v-160H180v160Zm440 0h160v-160H620v160ZM180-180h160v-160H180v160Zm440 0h160v-160H620v160Z\"/>\n",
              "  </svg>\n",
              "    </button>\n",
              "\n",
              "  <style>\n",
              "    .colab-df-container {\n",
              "      display:flex;\n",
              "      gap: 12px;\n",
              "    }\n",
              "\n",
              "    .colab-df-convert {\n",
              "      background-color: #E8F0FE;\n",
              "      border: none;\n",
              "      border-radius: 50%;\n",
              "      cursor: pointer;\n",
              "      display: none;\n",
              "      fill: #1967D2;\n",
              "      height: 32px;\n",
              "      padding: 0 0 0 0;\n",
              "      width: 32px;\n",
              "    }\n",
              "\n",
              "    .colab-df-convert:hover {\n",
              "      background-color: #E2EBFA;\n",
              "      box-shadow: 0px 1px 2px rgba(60, 64, 67, 0.3), 0px 1px 3px 1px rgba(60, 64, 67, 0.15);\n",
              "      fill: #174EA6;\n",
              "    }\n",
              "\n",
              "    .colab-df-buttons div {\n",
              "      margin-bottom: 4px;\n",
              "    }\n",
              "\n",
              "    [theme=dark] .colab-df-convert {\n",
              "      background-color: #3B4455;\n",
              "      fill: #D2E3FC;\n",
              "    }\n",
              "\n",
              "    [theme=dark] .colab-df-convert:hover {\n",
              "      background-color: #434B5C;\n",
              "      box-shadow: 0px 1px 3px 1px rgba(0, 0, 0, 0.15);\n",
              "      filter: drop-shadow(0px 1px 2px rgba(0, 0, 0, 0.3));\n",
              "      fill: #FFFFFF;\n",
              "    }\n",
              "  </style>\n",
              "\n",
              "    <script>\n",
              "      const buttonEl =\n",
              "        document.querySelector('#df-1872e849-5b3f-4861-8cd3-1c9b8f2cc0b7 button.colab-df-convert');\n",
              "      buttonEl.style.display =\n",
              "        google.colab.kernel.accessAllowed ? 'block' : 'none';\n",
              "\n",
              "      async function convertToInteractive(key) {\n",
              "        const element = document.querySelector('#df-1872e849-5b3f-4861-8cd3-1c9b8f2cc0b7');\n",
              "        const dataTable =\n",
              "          await google.colab.kernel.invokeFunction('convertToInteractive',\n",
              "                                                    [key], {});\n",
              "        if (!dataTable) return;\n",
              "\n",
              "        const docLinkHtml = 'Like what you see? Visit the ' +\n",
              "          '<a target=\"_blank\" href=https://colab.research.google.com/notebooks/data_table.ipynb>data table notebook</a>'\n",
              "          + ' to learn more about interactive tables.';\n",
              "        element.innerHTML = '';\n",
              "        dataTable['output_type'] = 'display_data';\n",
              "        await google.colab.output.renderOutput(dataTable, element);\n",
              "        const docLink = document.createElement('div');\n",
              "        docLink.innerHTML = docLinkHtml;\n",
              "        element.appendChild(docLink);\n",
              "      }\n",
              "    </script>\n",
              "  </div>\n",
              "\n",
              "\n",
              "<div id=\"df-f51b1c65-e5b9-4cdd-ad12-5713bdf8b3a4\">\n",
              "  <button class=\"colab-df-quickchart\" onclick=\"quickchart('df-f51b1c65-e5b9-4cdd-ad12-5713bdf8b3a4')\"\n",
              "            title=\"Suggest charts.\"\n",
              "            style=\"display:none;\">\n",
              "\n",
              "<svg xmlns=\"http://www.w3.org/2000/svg\" height=\"24px\"viewBox=\"0 0 24 24\"\n",
              "     width=\"24px\">\n",
              "    <g>\n",
              "        <path d=\"M19 3H5c-1.1 0-2 .9-2 2v14c0 1.1.9 2 2 2h14c1.1 0 2-.9 2-2V5c0-1.1-.9-2-2-2zM9 17H7v-7h2v7zm4 0h-2V7h2v10zm4 0h-2v-4h2v4z\"/>\n",
              "    </g>\n",
              "</svg>\n",
              "  </button>\n",
              "\n",
              "<style>\n",
              "  .colab-df-quickchart {\n",
              "      --bg-color: #E8F0FE;\n",
              "      --fill-color: #1967D2;\n",
              "      --hover-bg-color: #E2EBFA;\n",
              "      --hover-fill-color: #174EA6;\n",
              "      --disabled-fill-color: #AAA;\n",
              "      --disabled-bg-color: #DDD;\n",
              "  }\n",
              "\n",
              "  [theme=dark] .colab-df-quickchart {\n",
              "      --bg-color: #3B4455;\n",
              "      --fill-color: #D2E3FC;\n",
              "      --hover-bg-color: #434B5C;\n",
              "      --hover-fill-color: #FFFFFF;\n",
              "      --disabled-bg-color: #3B4455;\n",
              "      --disabled-fill-color: #666;\n",
              "  }\n",
              "\n",
              "  .colab-df-quickchart {\n",
              "    background-color: var(--bg-color);\n",
              "    border: none;\n",
              "    border-radius: 50%;\n",
              "    cursor: pointer;\n",
              "    display: none;\n",
              "    fill: var(--fill-color);\n",
              "    height: 32px;\n",
              "    padding: 0;\n",
              "    width: 32px;\n",
              "  }\n",
              "\n",
              "  .colab-df-quickchart:hover {\n",
              "    background-color: var(--hover-bg-color);\n",
              "    box-shadow: 0 1px 2px rgba(60, 64, 67, 0.3), 0 1px 3px 1px rgba(60, 64, 67, 0.15);\n",
              "    fill: var(--button-hover-fill-color);\n",
              "  }\n",
              "\n",
              "  .colab-df-quickchart-complete:disabled,\n",
              "  .colab-df-quickchart-complete:disabled:hover {\n",
              "    background-color: var(--disabled-bg-color);\n",
              "    fill: var(--disabled-fill-color);\n",
              "    box-shadow: none;\n",
              "  }\n",
              "\n",
              "  .colab-df-spinner {\n",
              "    border: 2px solid var(--fill-color);\n",
              "    border-color: transparent;\n",
              "    border-bottom-color: var(--fill-color);\n",
              "    animation:\n",
              "      spin 1s steps(1) infinite;\n",
              "  }\n",
              "\n",
              "  @keyframes spin {\n",
              "    0% {\n",
              "      border-color: transparent;\n",
              "      border-bottom-color: var(--fill-color);\n",
              "      border-left-color: var(--fill-color);\n",
              "    }\n",
              "    20% {\n",
              "      border-color: transparent;\n",
              "      border-left-color: var(--fill-color);\n",
              "      border-top-color: var(--fill-color);\n",
              "    }\n",
              "    30% {\n",
              "      border-color: transparent;\n",
              "      border-left-color: var(--fill-color);\n",
              "      border-top-color: var(--fill-color);\n",
              "      border-right-color: var(--fill-color);\n",
              "    }\n",
              "    40% {\n",
              "      border-color: transparent;\n",
              "      border-right-color: var(--fill-color);\n",
              "      border-top-color: var(--fill-color);\n",
              "    }\n",
              "    60% {\n",
              "      border-color: transparent;\n",
              "      border-right-color: var(--fill-color);\n",
              "    }\n",
              "    80% {\n",
              "      border-color: transparent;\n",
              "      border-right-color: var(--fill-color);\n",
              "      border-bottom-color: var(--fill-color);\n",
              "    }\n",
              "    90% {\n",
              "      border-color: transparent;\n",
              "      border-bottom-color: var(--fill-color);\n",
              "    }\n",
              "  }\n",
              "</style>\n",
              "\n",
              "  <script>\n",
              "    async function quickchart(key) {\n",
              "      const quickchartButtonEl =\n",
              "        document.querySelector('#' + key + ' button');\n",
              "      quickchartButtonEl.disabled = true;  // To prevent multiple clicks.\n",
              "      quickchartButtonEl.classList.add('colab-df-spinner');\n",
              "      try {\n",
              "        const charts = await google.colab.kernel.invokeFunction(\n",
              "            'suggestCharts', [key], {});\n",
              "      } catch (error) {\n",
              "        console.error('Error during call to suggestCharts:', error);\n",
              "      }\n",
              "      quickchartButtonEl.classList.remove('colab-df-spinner');\n",
              "      quickchartButtonEl.classList.add('colab-df-quickchart-complete');\n",
              "    }\n",
              "    (() => {\n",
              "      let quickchartButtonEl =\n",
              "        document.querySelector('#df-f51b1c65-e5b9-4cdd-ad12-5713bdf8b3a4 button');\n",
              "      quickchartButtonEl.style.display =\n",
              "        google.colab.kernel.accessAllowed ? 'block' : 'none';\n",
              "    })();\n",
              "  </script>\n",
              "</div>\n",
              "    </div>\n",
              "  </div>\n"
            ]
          },
          "metadata": {},
          "execution_count": 126
        }
      ]
    },
    {
      "cell_type": "code",
      "source": [
        "data.dtypes\n"
      ],
      "metadata": {
        "colab": {
          "base_uri": "https://localhost:8080/"
        },
        "id": "TzgXXZMGYzv_",
        "outputId": "3cf54157-d75b-4163-8bac-d366983afd5f"
      },
      "execution_count": null,
      "outputs": [
        {
          "output_type": "execute_result",
          "data": {
            "text/plain": [
              "age                        float64\n",
              "gender                      object\n",
              "height_cm                  float64\n",
              "weight_kg                  float64\n",
              "body fat_%                 float64\n",
              "diastolic                  float64\n",
              "systolic                   float64\n",
              "gripForce                  float64\n",
              "sit and bend forward_cm    float64\n",
              "sit-ups counts             float64\n",
              "broad jump_cm              float64\n",
              "class                       object\n",
              "dtype: object"
            ]
          },
          "metadata": {},
          "execution_count": 127
        }
      ]
    },
    {
      "cell_type": "code",
      "source": [
        "data.describe()"
      ],
      "metadata": {
        "colab": {
          "base_uri": "https://localhost:8080/",
          "height": 355
        },
        "id": "ZqW3Vv3GZoS0",
        "outputId": "28809fe2-68f1-43c2-d550-6eb65dbdc756"
      },
      "execution_count": null,
      "outputs": [
        {
          "output_type": "execute_result",
          "data": {
            "text/plain": [
              "                age     height_cm     weight_kg    body fat_%     diastolic  \\\n",
              "count  13393.000000  13393.000000  13393.000000  13393.000000  13393.000000   \n",
              "mean      36.775106    168.559807     67.447316     23.240165     78.796842   \n",
              "std       13.625639      8.426583     11.949666      7.256844     10.742033   \n",
              "min       21.000000    125.000000     26.300000      3.000000      0.000000   \n",
              "25%       25.000000    162.400000     58.200000     18.000000     71.000000   \n",
              "50%       32.000000    169.200000     67.400000     22.800000     79.000000   \n",
              "75%       48.000000    174.800000     75.300000     28.000000     86.000000   \n",
              "max       64.000000    193.800000    138.100000     78.400000    156.200000   \n",
              "\n",
              "           systolic     gripForce  sit and bend forward_cm  sit-ups counts  \\\n",
              "count  13393.000000  13393.000000             13393.000000    13393.000000   \n",
              "mean     130.234817     36.963877                15.209268       39.771224   \n",
              "std       14.713954     10.624864                 8.456677       14.276698   \n",
              "min        0.000000      0.000000               -25.000000        0.000000   \n",
              "25%      120.000000     27.500000                10.900000       30.000000   \n",
              "50%      130.000000     37.900000                16.200000       41.000000   \n",
              "75%      141.000000     45.200000                20.700000       50.000000   \n",
              "max      201.000000     70.500000               213.000000       80.000000   \n",
              "\n",
              "       broad jump_cm  \n",
              "count   13393.000000  \n",
              "mean      190.129627  \n",
              "std        39.868000  \n",
              "min         0.000000  \n",
              "25%       162.000000  \n",
              "50%       193.000000  \n",
              "75%       221.000000  \n",
              "max       303.000000  "
            ],
            "text/html": [
              "\n",
              "  <div id=\"df-2bc7f99b-b32a-4389-b22a-9c9b0e5399d9\" class=\"colab-df-container\">\n",
              "    <div>\n",
              "<style scoped>\n",
              "    .dataframe tbody tr th:only-of-type {\n",
              "        vertical-align: middle;\n",
              "    }\n",
              "\n",
              "    .dataframe tbody tr th {\n",
              "        vertical-align: top;\n",
              "    }\n",
              "\n",
              "    .dataframe thead th {\n",
              "        text-align: right;\n",
              "    }\n",
              "</style>\n",
              "<table border=\"1\" class=\"dataframe\">\n",
              "  <thead>\n",
              "    <tr style=\"text-align: right;\">\n",
              "      <th></th>\n",
              "      <th>age</th>\n",
              "      <th>height_cm</th>\n",
              "      <th>weight_kg</th>\n",
              "      <th>body fat_%</th>\n",
              "      <th>diastolic</th>\n",
              "      <th>systolic</th>\n",
              "      <th>gripForce</th>\n",
              "      <th>sit and bend forward_cm</th>\n",
              "      <th>sit-ups counts</th>\n",
              "      <th>broad jump_cm</th>\n",
              "    </tr>\n",
              "  </thead>\n",
              "  <tbody>\n",
              "    <tr>\n",
              "      <th>count</th>\n",
              "      <td>13393.000000</td>\n",
              "      <td>13393.000000</td>\n",
              "      <td>13393.000000</td>\n",
              "      <td>13393.000000</td>\n",
              "      <td>13393.000000</td>\n",
              "      <td>13393.000000</td>\n",
              "      <td>13393.000000</td>\n",
              "      <td>13393.000000</td>\n",
              "      <td>13393.000000</td>\n",
              "      <td>13393.000000</td>\n",
              "    </tr>\n",
              "    <tr>\n",
              "      <th>mean</th>\n",
              "      <td>36.775106</td>\n",
              "      <td>168.559807</td>\n",
              "      <td>67.447316</td>\n",
              "      <td>23.240165</td>\n",
              "      <td>78.796842</td>\n",
              "      <td>130.234817</td>\n",
              "      <td>36.963877</td>\n",
              "      <td>15.209268</td>\n",
              "      <td>39.771224</td>\n",
              "      <td>190.129627</td>\n",
              "    </tr>\n",
              "    <tr>\n",
              "      <th>std</th>\n",
              "      <td>13.625639</td>\n",
              "      <td>8.426583</td>\n",
              "      <td>11.949666</td>\n",
              "      <td>7.256844</td>\n",
              "      <td>10.742033</td>\n",
              "      <td>14.713954</td>\n",
              "      <td>10.624864</td>\n",
              "      <td>8.456677</td>\n",
              "      <td>14.276698</td>\n",
              "      <td>39.868000</td>\n",
              "    </tr>\n",
              "    <tr>\n",
              "      <th>min</th>\n",
              "      <td>21.000000</td>\n",
              "      <td>125.000000</td>\n",
              "      <td>26.300000</td>\n",
              "      <td>3.000000</td>\n",
              "      <td>0.000000</td>\n",
              "      <td>0.000000</td>\n",
              "      <td>0.000000</td>\n",
              "      <td>-25.000000</td>\n",
              "      <td>0.000000</td>\n",
              "      <td>0.000000</td>\n",
              "    </tr>\n",
              "    <tr>\n",
              "      <th>25%</th>\n",
              "      <td>25.000000</td>\n",
              "      <td>162.400000</td>\n",
              "      <td>58.200000</td>\n",
              "      <td>18.000000</td>\n",
              "      <td>71.000000</td>\n",
              "      <td>120.000000</td>\n",
              "      <td>27.500000</td>\n",
              "      <td>10.900000</td>\n",
              "      <td>30.000000</td>\n",
              "      <td>162.000000</td>\n",
              "    </tr>\n",
              "    <tr>\n",
              "      <th>50%</th>\n",
              "      <td>32.000000</td>\n",
              "      <td>169.200000</td>\n",
              "      <td>67.400000</td>\n",
              "      <td>22.800000</td>\n",
              "      <td>79.000000</td>\n",
              "      <td>130.000000</td>\n",
              "      <td>37.900000</td>\n",
              "      <td>16.200000</td>\n",
              "      <td>41.000000</td>\n",
              "      <td>193.000000</td>\n",
              "    </tr>\n",
              "    <tr>\n",
              "      <th>75%</th>\n",
              "      <td>48.000000</td>\n",
              "      <td>174.800000</td>\n",
              "      <td>75.300000</td>\n",
              "      <td>28.000000</td>\n",
              "      <td>86.000000</td>\n",
              "      <td>141.000000</td>\n",
              "      <td>45.200000</td>\n",
              "      <td>20.700000</td>\n",
              "      <td>50.000000</td>\n",
              "      <td>221.000000</td>\n",
              "    </tr>\n",
              "    <tr>\n",
              "      <th>max</th>\n",
              "      <td>64.000000</td>\n",
              "      <td>193.800000</td>\n",
              "      <td>138.100000</td>\n",
              "      <td>78.400000</td>\n",
              "      <td>156.200000</td>\n",
              "      <td>201.000000</td>\n",
              "      <td>70.500000</td>\n",
              "      <td>213.000000</td>\n",
              "      <td>80.000000</td>\n",
              "      <td>303.000000</td>\n",
              "    </tr>\n",
              "  </tbody>\n",
              "</table>\n",
              "</div>\n",
              "    <div class=\"colab-df-buttons\">\n",
              "\n",
              "  <div class=\"colab-df-container\">\n",
              "    <button class=\"colab-df-convert\" onclick=\"convertToInteractive('df-2bc7f99b-b32a-4389-b22a-9c9b0e5399d9')\"\n",
              "            title=\"Convert this dataframe to an interactive table.\"\n",
              "            style=\"display:none;\">\n",
              "\n",
              "  <svg xmlns=\"http://www.w3.org/2000/svg\" height=\"24px\" viewBox=\"0 -960 960 960\">\n",
              "    <path d=\"M120-120v-720h720v720H120Zm60-500h600v-160H180v160Zm220 220h160v-160H400v160Zm0 220h160v-160H400v160ZM180-400h160v-160H180v160Zm440 0h160v-160H620v160ZM180-180h160v-160H180v160Zm440 0h160v-160H620v160Z\"/>\n",
              "  </svg>\n",
              "    </button>\n",
              "\n",
              "  <style>\n",
              "    .colab-df-container {\n",
              "      display:flex;\n",
              "      gap: 12px;\n",
              "    }\n",
              "\n",
              "    .colab-df-convert {\n",
              "      background-color: #E8F0FE;\n",
              "      border: none;\n",
              "      border-radius: 50%;\n",
              "      cursor: pointer;\n",
              "      display: none;\n",
              "      fill: #1967D2;\n",
              "      height: 32px;\n",
              "      padding: 0 0 0 0;\n",
              "      width: 32px;\n",
              "    }\n",
              "\n",
              "    .colab-df-convert:hover {\n",
              "      background-color: #E2EBFA;\n",
              "      box-shadow: 0px 1px 2px rgba(60, 64, 67, 0.3), 0px 1px 3px 1px rgba(60, 64, 67, 0.15);\n",
              "      fill: #174EA6;\n",
              "    }\n",
              "\n",
              "    .colab-df-buttons div {\n",
              "      margin-bottom: 4px;\n",
              "    }\n",
              "\n",
              "    [theme=dark] .colab-df-convert {\n",
              "      background-color: #3B4455;\n",
              "      fill: #D2E3FC;\n",
              "    }\n",
              "\n",
              "    [theme=dark] .colab-df-convert:hover {\n",
              "      background-color: #434B5C;\n",
              "      box-shadow: 0px 1px 3px 1px rgba(0, 0, 0, 0.15);\n",
              "      filter: drop-shadow(0px 1px 2px rgba(0, 0, 0, 0.3));\n",
              "      fill: #FFFFFF;\n",
              "    }\n",
              "  </style>\n",
              "\n",
              "    <script>\n",
              "      const buttonEl =\n",
              "        document.querySelector('#df-2bc7f99b-b32a-4389-b22a-9c9b0e5399d9 button.colab-df-convert');\n",
              "      buttonEl.style.display =\n",
              "        google.colab.kernel.accessAllowed ? 'block' : 'none';\n",
              "\n",
              "      async function convertToInteractive(key) {\n",
              "        const element = document.querySelector('#df-2bc7f99b-b32a-4389-b22a-9c9b0e5399d9');\n",
              "        const dataTable =\n",
              "          await google.colab.kernel.invokeFunction('convertToInteractive',\n",
              "                                                    [key], {});\n",
              "        if (!dataTable) return;\n",
              "\n",
              "        const docLinkHtml = 'Like what you see? Visit the ' +\n",
              "          '<a target=\"_blank\" href=https://colab.research.google.com/notebooks/data_table.ipynb>data table notebook</a>'\n",
              "          + ' to learn more about interactive tables.';\n",
              "        element.innerHTML = '';\n",
              "        dataTable['output_type'] = 'display_data';\n",
              "        await google.colab.output.renderOutput(dataTable, element);\n",
              "        const docLink = document.createElement('div');\n",
              "        docLink.innerHTML = docLinkHtml;\n",
              "        element.appendChild(docLink);\n",
              "      }\n",
              "    </script>\n",
              "  </div>\n",
              "\n",
              "\n",
              "<div id=\"df-00a2ec63-9099-4dab-b144-d019bd160572\">\n",
              "  <button class=\"colab-df-quickchart\" onclick=\"quickchart('df-00a2ec63-9099-4dab-b144-d019bd160572')\"\n",
              "            title=\"Suggest charts.\"\n",
              "            style=\"display:none;\">\n",
              "\n",
              "<svg xmlns=\"http://www.w3.org/2000/svg\" height=\"24px\"viewBox=\"0 0 24 24\"\n",
              "     width=\"24px\">\n",
              "    <g>\n",
              "        <path d=\"M19 3H5c-1.1 0-2 .9-2 2v14c0 1.1.9 2 2 2h14c1.1 0 2-.9 2-2V5c0-1.1-.9-2-2-2zM9 17H7v-7h2v7zm4 0h-2V7h2v10zm4 0h-2v-4h2v4z\"/>\n",
              "    </g>\n",
              "</svg>\n",
              "  </button>\n",
              "\n",
              "<style>\n",
              "  .colab-df-quickchart {\n",
              "      --bg-color: #E8F0FE;\n",
              "      --fill-color: #1967D2;\n",
              "      --hover-bg-color: #E2EBFA;\n",
              "      --hover-fill-color: #174EA6;\n",
              "      --disabled-fill-color: #AAA;\n",
              "      --disabled-bg-color: #DDD;\n",
              "  }\n",
              "\n",
              "  [theme=dark] .colab-df-quickchart {\n",
              "      --bg-color: #3B4455;\n",
              "      --fill-color: #D2E3FC;\n",
              "      --hover-bg-color: #434B5C;\n",
              "      --hover-fill-color: #FFFFFF;\n",
              "      --disabled-bg-color: #3B4455;\n",
              "      --disabled-fill-color: #666;\n",
              "  }\n",
              "\n",
              "  .colab-df-quickchart {\n",
              "    background-color: var(--bg-color);\n",
              "    border: none;\n",
              "    border-radius: 50%;\n",
              "    cursor: pointer;\n",
              "    display: none;\n",
              "    fill: var(--fill-color);\n",
              "    height: 32px;\n",
              "    padding: 0;\n",
              "    width: 32px;\n",
              "  }\n",
              "\n",
              "  .colab-df-quickchart:hover {\n",
              "    background-color: var(--hover-bg-color);\n",
              "    box-shadow: 0 1px 2px rgba(60, 64, 67, 0.3), 0 1px 3px 1px rgba(60, 64, 67, 0.15);\n",
              "    fill: var(--button-hover-fill-color);\n",
              "  }\n",
              "\n",
              "  .colab-df-quickchart-complete:disabled,\n",
              "  .colab-df-quickchart-complete:disabled:hover {\n",
              "    background-color: var(--disabled-bg-color);\n",
              "    fill: var(--disabled-fill-color);\n",
              "    box-shadow: none;\n",
              "  }\n",
              "\n",
              "  .colab-df-spinner {\n",
              "    border: 2px solid var(--fill-color);\n",
              "    border-color: transparent;\n",
              "    border-bottom-color: var(--fill-color);\n",
              "    animation:\n",
              "      spin 1s steps(1) infinite;\n",
              "  }\n",
              "\n",
              "  @keyframes spin {\n",
              "    0% {\n",
              "      border-color: transparent;\n",
              "      border-bottom-color: var(--fill-color);\n",
              "      border-left-color: var(--fill-color);\n",
              "    }\n",
              "    20% {\n",
              "      border-color: transparent;\n",
              "      border-left-color: var(--fill-color);\n",
              "      border-top-color: var(--fill-color);\n",
              "    }\n",
              "    30% {\n",
              "      border-color: transparent;\n",
              "      border-left-color: var(--fill-color);\n",
              "      border-top-color: var(--fill-color);\n",
              "      border-right-color: var(--fill-color);\n",
              "    }\n",
              "    40% {\n",
              "      border-color: transparent;\n",
              "      border-right-color: var(--fill-color);\n",
              "      border-top-color: var(--fill-color);\n",
              "    }\n",
              "    60% {\n",
              "      border-color: transparent;\n",
              "      border-right-color: var(--fill-color);\n",
              "    }\n",
              "    80% {\n",
              "      border-color: transparent;\n",
              "      border-right-color: var(--fill-color);\n",
              "      border-bottom-color: var(--fill-color);\n",
              "    }\n",
              "    90% {\n",
              "      border-color: transparent;\n",
              "      border-bottom-color: var(--fill-color);\n",
              "    }\n",
              "  }\n",
              "</style>\n",
              "\n",
              "  <script>\n",
              "    async function quickchart(key) {\n",
              "      const quickchartButtonEl =\n",
              "        document.querySelector('#' + key + ' button');\n",
              "      quickchartButtonEl.disabled = true;  // To prevent multiple clicks.\n",
              "      quickchartButtonEl.classList.add('colab-df-spinner');\n",
              "      try {\n",
              "        const charts = await google.colab.kernel.invokeFunction(\n",
              "            'suggestCharts', [key], {});\n",
              "      } catch (error) {\n",
              "        console.error('Error during call to suggestCharts:', error);\n",
              "      }\n",
              "      quickchartButtonEl.classList.remove('colab-df-spinner');\n",
              "      quickchartButtonEl.classList.add('colab-df-quickchart-complete');\n",
              "    }\n",
              "    (() => {\n",
              "      let quickchartButtonEl =\n",
              "        document.querySelector('#df-00a2ec63-9099-4dab-b144-d019bd160572 button');\n",
              "      quickchartButtonEl.style.display =\n",
              "        google.colab.kernel.accessAllowed ? 'block' : 'none';\n",
              "    })();\n",
              "  </script>\n",
              "</div>\n",
              "    </div>\n",
              "  </div>\n"
            ]
          },
          "metadata": {},
          "execution_count": 128
        }
      ]
    },
    {
      "cell_type": "markdown",
      "metadata": {
        "id": "Y2azdqNNV1XG"
      },
      "source": [
        "### <span style=\"color:magenta\">Q2: 5 pt:</span>\n",
        "Without using pd.DataFrame.describe(), report the median age, height, and weight for people in the data. Round your answer to the nearest whole number.  Be sure to indicate units for each variable in your write-up."
      ]
    },
    {
      "cell_type": "code",
      "execution_count": null,
      "metadata": {
        "colab": {
          "base_uri": "https://localhost:8080/"
        },
        "id": "85d7vwcWV1XG",
        "outputId": "2d24e32f-36a8-4b41-9e67-a4999d47be2c"
      },
      "outputs": [
        {
          "output_type": "stream",
          "name": "stdout",
          "text": [
            "the median age is 32\n",
            "the median height in cm is 169\n",
            "the median weight in kg is 67\n"
          ]
        }
      ],
      "source": [
        "# put your code here\n",
        "m_age = round(data.age.median())\n",
        "print(f\"the median age is {m_age}\")\n",
        "m_height = round(data.height_cm.median())\n",
        "print(f\"the median height in cm is {m_height}\")\n",
        "m_weight = round(data.weight_kg.median())\n",
        "print(f\"the median weight in kg is {m_weight}\")\n"
      ]
    },
    {
      "cell_type": "markdown",
      "metadata": {
        "id": "fYL4i4MSV1XH"
      },
      "source": [
        "\n",
        " In the above example i have used the median function of pandas to calculate the median of the asked columns/attributes."
      ]
    },
    {
      "cell_type": "markdown",
      "metadata": {
        "id": "lwtus91IV1XH"
      },
      "source": [
        "### <span style=\"color:magenta\">Q3: 5 pt: </span>\n",
        "Look for any anomalous data points.  For example, are there cases where diastolic blood pressure is higher than systolic blood pressure (which is physiologically impossible)?  Do you notice any other anomalies?"
      ]
    },
    {
      "cell_type": "code",
      "execution_count": null,
      "metadata": {
        "colab": {
          "base_uri": "https://localhost:8080/"
        },
        "id": "UXTj2UziV1XH",
        "outputId": "fb04fbca-4f7f-41e6-bdcd-90c9a432e9a5"
      },
      "outputs": [
        {
          "output_type": "stream",
          "name": "stdout",
          "text": [
            "abnormal at row 7495 as diastolic blood pressure is higher than systolic blood pressure\n",
            "abnormal at row 7597 as diastolic blood pressure is higher than systolic blood pressure\n",
            "abnormal at row 8217 as diastolic blood pressure is higher than systolic blood pressure\n",
            "abnormal at row 12949 as diastolic blood pressure is higher than systolic blood pressure\n"
          ]
        }
      ],
      "source": [
        "# put your code here\n",
        "for i in range(len(data.diastolic)):\n",
        "  if data.diastolic[i] > data.systolic[i]:\n",
        "    print(f\"abnormal at row {i} as diastolic blood pressure is higher than systolic blood pressure\")\n"
      ]
    },
    {
      "cell_type": "code",
      "source": [
        "for i in range(len(data.age)):\n",
        "  if data.age[i] == 0:\n",
        "    print(f\"age is 0 at {i}th row, which is not possible\")"
      ],
      "metadata": {
        "id": "0DIkayF1jOwV"
      },
      "execution_count": null,
      "outputs": []
    },
    {
      "cell_type": "markdown",
      "metadata": {
        "id": "FOY03zNPV1XH"
      },
      "source": [
        "dat seen above the seems abnormal fpr above specified rows as"
      ]
    },
    {
      "cell_type": "markdown",
      "metadata": {
        "id": "QsC-rCt_V1XH"
      },
      "source": [
        "### <span style=\"color:magenta\">Q4: 11 pt:</span>\n",
        "Generate histogram plots for the age, weight, and height for that allow you to visualize differences between gender M and gender F participants. Describe the plots and point out any interesting aspects. You are not permitted to use Seaborn, Bokeh, or Plotly to create your visualizations (i.e. you can only use the matplotlib-pandas integrations)."
      ]
    },
    {
      "cell_type": "code",
      "execution_count": null,
      "metadata": {
        "colab": {
          "base_uri": "https://localhost:8080/",
          "height": 1000
        },
        "id": "yJe0eJkGV1XH",
        "outputId": "a3cf14f6-0ab3-4474-9dea-20f67e6608a6"
      },
      "outputs": [
        {
          "output_type": "display_data",
          "data": {
            "text/plain": [
              "<Figure size 1000x600 with 1 Axes>"
            ],
            "image/png": "[encoded data removed]"
          },
          "metadata": {}
        },
        {
          "output_type": "display_data",
          "data": {
            "text/plain": [
              "<Figure size 1000x600 with 1 Axes>"
            ],
            "image/png": "[encoded data removed]"
          },
          "metadata": {}
        },
        {
          "output_type": "display_data",
          "data": {
            "text/plain": [
              "<Figure size 1000x600 with 1 Axes>"
            ],
            "image/png": "[encoded data removed]"
          },
          "metadata": {}
        }
      ],
      "source": [
        "# put your code here\n",
        "import pandas as pd\n",
        "import matplotlib.pyplot as plt\n",
        "\n",
        "variables = ['age', 'height_cm', 'weight_kg']\n",
        "for var in variables:\n",
        "    plt.figure(figsize=(10, 6))\n",
        "\n",
        "    # Plot Male data\n",
        "    data[data['gender'] == 'M'][var].plot(kind='hist', alpha=0.7, label='M', bins=10, color='blue')\n",
        "\n",
        "    # Plot Female data\n",
        "    data[data['gender'] == 'F'][var].plot(kind='hist', alpha=0.7, label='F', bins=10, color='pink')\n",
        "\n",
        "    plt.title(f'Histogram of {var} by Gender')\n",
        "    plt.xlabel(var)\n",
        "    plt.ylabel('Frequency')\n",
        "    plt.legend()\n",
        "    plt.grid(axis='y')\n",
        "    plt.tight_layout()\n",
        "    plt.show()\n",
        "\n",
        "\n"
      ]
    },
    {
      "cell_type": "code",
      "source": [
        "data.gender.value_counts()"
      ],
      "metadata": {
        "colab": {
          "base_uri": "https://localhost:8080/"
        },
        "id": "OmZnVID92rBf",
        "outputId": "bd731777-9125-4471-a00d-5d2d4b7b1972"
      },
      "execution_count": null,
      "outputs": [
        {
          "output_type": "execute_result",
          "data": {
            "text/plain": [
              "M    8467\n",
              "F    4926\n",
              "Name: gender, dtype: int64"
            ]
          },
          "metadata": {},
          "execution_count": 133
        }
      ]
    },
    {
      "cell_type": "markdown",
      "metadata": {
        "id": "ZjWraIvrV1XH"
      },
      "source": [
        "* first of all, i want to point out that the number of data points for women  are way less than men.\n",
        "\n",
        "* From the visual representation, the plots for age, height, and weight exhibit similar patterns. The graph illustrating the females appears to be a slightly scaled-down version of the one for the males.\n",
        "\n",
        "* The graph illustrating the females is bit towards left, impling females have less weight and height in comaprison to men.  "
      ]
    },
    {
      "cell_type": "markdown",
      "metadata": {
        "id": "0u5VM5ksbCTm"
      },
      "source": [
        "### <span style=\"color:magenta\">Q5: 16 pt:</span>\n",
        "[Blood pressure](https://www.health.harvard.edu/heart-health/reading-the-new-blood-pressure-guidelines) is reported as two numbers: diastolic (the lower number) and systolic (the higher number).  So, for example, if a person has a diastolic measurement of 80 and a systolic measurement of 120, the person's blood pressure would be reported as 120/80.\n",
        "\n",
        "Blood pressure measurements fall into several categories:\n",
        "\n",
        "Normal blood pressure. Your blood pressure is normal if it's below 120/80 mm Hg.\n",
        "\n",
        "Elevated blood pressure. Elevated blood pressure is a systolic pressure ranging from 120 to 129 mm Hg and a diastolic pressure below (not above) 80 mm Hg. Elevated blood pressure may also be called prehypertension.\n",
        "\n",
        "Stage 1 hypertension. Stage 1 hypertension is a systolic pressure ranging from 130 to 139 mm Hg or a diastolic pressure ranging from 80 to 89 mm Hg.\n",
        "\n",
        "Stage 2 hypertension. More-severe hypertension, stage 2 hypertension is a systolic pressure of 140 mm Hg or higher or a diastolic pressure of 90 mm Hg or higher.\n",
        "\n",
        "Hypertensive crisis. A blood pressure measurement higher than 180/120 mm Hg is an emergency situation that requires urgent medical care.\n",
        "\n",
        "a) Report the number of people in each of those categories.\n",
        "\n",
        "b) The guidelines were recently changed: prior to 2017, the guidelines set the threshold at 140/90 mm Hg for people younger than age 65 and 150/80 mm Hg for those ages 65 and older to be diagnosed with hypertension. Create and implement analyses that allow you to demonstrate how the change in guidelines affects the categorization of people into the different categories.\n",
        "Make reasonable assumptions (and state them) about whether to use diastolic, systolic, both, or either of those measures when implementing your analysis.  Note that the new guidelines offer more categories than the older guidelines."
      ]
    },
    {
      "cell_type": "code",
      "execution_count": null,
      "metadata": {
        "colab": {
          "base_uri": "https://localhost:8080/"
        },
        "id": "O1vsnn1fV1XI",
        "outputId": "7fc5263f-6098-464f-f4d8-09b1632d179a"
      },
      "outputs": [
        {
          "output_type": "stream",
          "name": "stdout",
          "text": [
            "New Guidelines: {'Normal': 2898, 'Elevated': 2090, 'Stage 1 hypertension': 5936, 'Stage 2 hypertension': 2469, 'Hypertensive crisis': 0}\n",
            "Old Guidelines: {'Normal': 8975, 'Pre-hypertension': 0, 'Hypertension Stage 1': 4418, 'Hypertension Stage 2': 0}\n"
          ]
        }
      ],
      "source": [
        "\n",
        "# a) Categorize using new guidelines\n",
        "categories = ['Normal', 'Elevated', 'Stage 1 hypertension', 'Stage 2 hypertension', 'Hypertensive crisis']\n",
        "counts = {category: 0 for category in categories}\n",
        "\n",
        "for _, row in data.iterrows():\n",
        "    if row['systolic'] < 120 and row['diastolic'] < 80:\n",
        "        counts['Normal'] += 1\n",
        "    elif 120 <= row['systolic'] < 130 and row['diastolic'] < 80:\n",
        "        counts['Elevated'] += 1\n",
        "    elif 130 <= row['systolic'] < 140 or 80 <= row['diastolic'] < 90:\n",
        "        counts['Stage 1 hypertension'] += 1\n",
        "    elif row['systolic'] >= 140 or row['diastolic'] >= 90:\n",
        "        counts['Stage 2 hypertension'] += 1\n",
        "    elif row['systolic'] > 180 or row['diastolic'] > 120:\n",
        "        counts['Hypertensive crisis'] += 1\n",
        "\n",
        "print(\"New Guidelines:\", counts)\n",
        "\n",
        "# b) Categorize using old guidelines\n",
        "old_categories = ['Normal', 'Pre-hypertension', 'Hypertension Stage 1', 'Hypertension Stage 2']\n",
        "old_counts = {category: 0 for category in old_categories}\n",
        "\n",
        "for _, row in data.iterrows():\n",
        "    if row['age'] < 65:\n",
        "        if row['systolic'] < 140 and row['diastolic'] < 90:\n",
        "            old_counts['Normal'] += 1\n",
        "        else:\n",
        "            old_counts['Hypertension Stage 1'] += 1\n",
        "    else:\n",
        "        if row['systolic'] < 150 and row['diastolic'] < 80:\n",
        "            old_counts['Normal'] += 1\n",
        "        else:\n",
        "            old_counts['Hypertension Stage 2'] += 1\n",
        "\n",
        "print(\"Old Guidelines:\", old_counts)\n"
      ]
    },
    {
      "cell_type": "markdown",
      "metadata": {
        "id": "CCuxztg3uYPQ"
      },
      "source": [
        "\n",
        "we can see from the above data (i.e. segregation of data with respect to blood pressure for individuals) that new guidlines has much better categorization compared with old guidlines. As nowadays, we can observe even younger generations having blood pressure issues.\n"
      ]
    },
    {
      "cell_type": "markdown",
      "metadata": {
        "id": "2wH5ikUcbb16",
        "tags": []
      },
      "source": [
        "### <span style=\"color:magenta\">Q6: 10 pt:</span>\n",
        "Create a new variable \"age_class\" that is \"early\" if age < 40, \"middle\" if age is between 40 and 60 (inclusive) and \"late\" if age > 60.  Report the mean and median number of sit-ups counts for each of those categories.\n"
      ]
    },
    {
      "cell_type": "code",
      "execution_count": null,
      "metadata": {
        "colab": {
          "base_uri": "https://localhost:8080/"
        },
        "id": "GneWWgFVt62N",
        "outputId": "af21b2ce-9daa-46bb-ccef-d1db5f10ecac"
      },
      "outputs": [
        {
          "output_type": "stream",
          "name": "stdout",
          "text": [
            "Mean Sit-Up Counts:\n",
            "age_class\n",
            "early     45.305217\n",
            "late      24.060166\n",
            "middle    31.815141\n",
            "Name: sit-ups counts, dtype: float64\n",
            "\n",
            "Median Sit-Up Counts:\n",
            "age_class\n",
            "early     47.0\n",
            "late      25.0\n",
            "middle    32.0\n",
            "Name: sit-ups counts, dtype: float64\n"
          ]
        }
      ],
      "source": [
        "# put your code here\n",
        "# Create the \"age_class\" variable\n",
        "def classify_age(age):\n",
        "    if age < 40:\n",
        "        return 'early'\n",
        "    elif 40 <= age <= 60:\n",
        "        return 'middle'\n",
        "    else:\n",
        "        return 'late'\n",
        "\n",
        "data['age_class'] = data['age'].apply(classify_age)\n",
        "\n",
        "# Compute and report mean and median sit-up counts by age_class\n",
        "mean_counts = data.groupby('age_class')['sit-ups counts'].mean()\n",
        "median_counts = data.groupby('age_class')['sit-ups counts'].median()\n",
        "\n",
        "print(\"Mean Sit-Up Counts:\")\n",
        "print(mean_counts)\n",
        "\n",
        "print(\"\\nMedian Sit-Up Counts:\")\n",
        "print(median_counts)"
      ]
    },
    {
      "cell_type": "code",
      "source": [],
      "metadata": {
        "id": "pAYS1lZTaa2z"
      },
      "execution_count": null,
      "outputs": []
    },
    {
      "cell_type": "markdown",
      "metadata": {
        "id": "WlWYu2_5uY7K"
      },
      "source": [
        "(Use this space to explain your answers)"
      ]
    },
    {
      "cell_type": "markdown",
      "metadata": {
        "id": "X1BZz6gEV1XK"
      },
      "source": [
        "### <span style=\"color:magenta\">Q7: 15 pt: </span>\n",
        "Calculate each person's Body Mass Index (BMI).  With the metric system, the formula for BMI is weight in kilograms divided by height in meters squared. Since height is commonly measured in centimeters, an alternate calculation formula, dividing the weight in kilograms by the height in centimeters squared, and then multiplying the result by 10,000, can be used. (https://www.cdc.gov/nccdphp/dnpao/growthcharts/training/bmiage/page5_1.html)\n",
        "\n",
        "Create two histograms of BMI: one for gender F and one for gender M.  Describe similarites and differences of the two histograms."
      ]
    },
    {
      "cell_type": "code",
      "execution_count": null,
      "metadata": {
        "id": "UqxhkcVcV1XK"
      },
      "outputs": [],
      "source": [
        "# put your code here\n",
        "\n",
        "data[\"BMI\"] = (data[\"weight_kg\"]/(data['height_cm']**2))*10000"
      ]
    },
    {
      "cell_type": "code",
      "source": [
        "# Plot histograms for Males and Females\n",
        "plt.figure(figsize=(12, 6))\n",
        "\n",
        "# Histogram for Males\n",
        "plt.subplot(1, 2, 1)\n",
        "data[data['gender'] == 'M']['BMI'].hist(alpha=1, bins=10, color='blue')\n",
        "plt.title('BMI Distribution for Males')\n",
        "plt.xlabel('BMI')\n",
        "plt.ylabel('Frequency')\n",
        "\n",
        "# Histogram for Females\n",
        "plt.subplot(1, 2, 2)\n",
        "data[data['gender'] == 'F']['BMI'].hist(alpha=1, bins=10, color='pink')\n",
        "plt.title('BMI Distribution for Females')\n",
        "plt.xlabel('BMI')\n",
        "plt.ylabel('Frequency')\n",
        "\n",
        "plt.tight_layout()\n",
        "plt.show()"
      ],
      "metadata": {
        "colab": {
          "base_uri": "https://localhost:8080/",
          "height": 522
        },
        "id": "A_YGK57fcqvi",
        "outputId": "3ff45caf-58a3-4f46-bc21-c5137ebac5d8"
      },
      "execution_count": null,
      "outputs": [
        {
          "output_type": "display_data",
          "data": {
            "text/plain": [
              "<Figure size 1200x600 with 2 Axes>"
            ],
            "image/png": "[encoded data removed]"
          },
          "metadata": {}
        }
      ]
    },
    {
      "cell_type": "markdown",
      "metadata": {
        "id": "aJbkj4j4V1XK"
      },
      "source": [
        "Similarities:\n",
        "\n",
        "* The overall shape looks similar as both genders show, for instance, a normal distribution.\n",
        "\n",
        "* The peak or the mode of the distributions is somewhat similar for both genders as most people from both groups have a similar average BMI. (M - mode range(23-26); F - mode range (21-24))\n",
        "\n",
        "Differences:\n",
        "\n",
        "* As we can see the spread of the data is different, with Male  showing a wider range and Female showing a narrower range of BMIs.\n",
        "\n",
        "* As we can see Male have a higher frequency of outliers or extreme BMIs than the Females."
      ]
    },
    {
      "cell_type": "markdown",
      "metadata": {
        "id": "7n5ybXFQcR-g"
      },
      "source": [
        "### <span style=\"color:magenta\">Q8: 12 pt: </span>\n",
        "Compare the mean values of height, weight, body fat %, grip force, sit and bend forward, and sit-ups count for gender F vs. gender M.  You should use both quantitative and visual methods in your work.\n"
      ]
    },
    {
      "cell_type": "code",
      "execution_count": null,
      "metadata": {
        "colab": {
          "base_uri": "https://localhost:8080/",
          "height": 649
        },
        "id": "FoWTh2ekt8Wp",
        "outputId": "ab97099c-a8e1-4161-e1b2-3d71bc30330c"
      },
      "outputs": [
        {
          "output_type": "stream",
          "name": "stdout",
          "text": [
            "         height_cm  weight_kg  body fat_%  gripForce  sit and bend forward_cm  \\\n",
            "gender                                                                          \n",
            "F       160.485404  56.905899   28.486085  25.817994                18.839791   \n",
            "M       173.257399  73.580187   20.188151  43.448420                13.097073   \n",
            "\n",
            "        sit-ups counts  \n",
            "gender                  \n",
            "F            30.888348  \n",
            "M            44.939176  \n"
          ]
        },
        {
          "output_type": "display_data",
          "data": {
            "text/plain": [
              "<Figure size 1500x700 with 6 Axes>"
            ],
            "image/png": "[encoded data removed]"
          },
          "metadata": {}
        }
      ],
      "source": [
        "# put your code here\n",
        "# Quantitative comparison\n",
        "attributes = ['height_cm', 'weight_kg', 'body fat_%', 'gripForce', 'sit and bend forward_cm', 'sit-ups counts']\n",
        "means = data.groupby('gender')[attributes].mean()\n",
        "print(means)\n",
        "\n",
        "# Visual comparison using bar plot\n",
        "plt.figure(figsize=(15, 7))\n",
        "\n",
        "for index, attribute in enumerate(attributes, 1):\n",
        "    plt.subplot(2, 3, index)\n",
        "    data.groupby('gender')[attribute].mean().plot(kind='bar', color=['pink', 'blue'], alpha=1)\n",
        "    plt.title(f'Mean {attribute} by Gender')\n",
        "    plt.ylabel(attribute)\n",
        "    plt.xticks(rotation=0)\n",
        "\n",
        "plt.tight_layout()\n",
        "plt.show()"
      ]
    },
    {
      "cell_type": "code",
      "source": [
        "data.gender.value_counts()"
      ],
      "metadata": {
        "colab": {
          "base_uri": "https://localhost:8080/"
        },
        "id": "os1hhA1gxTdl",
        "outputId": "a8199278-e312-4708-a080-a9d8899d3109"
      },
      "execution_count": null,
      "outputs": [
        {
          "output_type": "execute_result",
          "data": {
            "text/plain": [
              "M    8467\n",
              "F    4926\n",
              "Name: gender, dtype: int64"
            ]
          },
          "metadata": {},
          "execution_count": 139
        }
      ]
    },
    {
      "cell_type": "markdown",
      "source": [
        "Also an important note: our dataset have more datapoints for men than women."
      ],
      "metadata": {
        "id": "Q2K0DkJ2y7a4"
      }
    },
    {
      "cell_type": "markdown",
      "metadata": {
        "id": "yN5zlizIuZa8"
      },
      "source": [
        "As we can see from the above data representations:\n",
        "\n",
        "* Women in general have mean height which a less than males by 13 cms approx.\n",
        "\n",
        "* Men usually have more weight than women as seen in the data but women have more body fat % compared to men. So we can say that men have muscle weight than women and probably men exercise more than women. Hence this explains why men have more grip force than women.\n"
      ]
    },
    {
      "cell_type": "markdown",
      "metadata": {
        "id": "wGoiQk8XbqHw"
      },
      "source": [
        "### <span style=\"color:magenta\">Q9: 18 pt: </span>\n",
        "Take a look at gripForce (a measure of strength), \"sit and bend forward\" (a measure of flexibility), and \"sit-ups count\" (a measures of strength and endurance of the abdominals and hip-flexor muscles).  For each of those measures, calculate their z-scores (i.e. subtract the mean of the variable from each observation, then divide by the standard deviation of that score).  Create an overall fitness score by adding the z-scores for each of those variables together, then use `pd.qcut()` (not `pd.cut()`) to assign them to five categories ranging from lowest score to highest score.  \n",
        "\n",
        "a) Report the number of individuals in each of the resulting categories.\n",
        "\n",
        "b) Comment on the degree to which your categories correspond to the `class` column."
      ]
    },
    {
      "cell_type": "code",
      "execution_count": null,
      "metadata": {
        "colab": {
          "base_uri": "https://localhost:8080/"
        },
        "id": "rlWaHJ6_V1XL",
        "outputId": "337f6d05-f730-452b-a7ce-f4bc1ae28f35"
      },
      "outputs": [
        {
          "output_type": "stream",
          "name": "stdout",
          "text": [
            "first     2679\n",
            "second    2678\n",
            "third     2679\n",
            "fourth    2678\n",
            "fifth     2679\n",
            "Name: fitness_category, dtype: int64\n",
            "A    3348\n",
            "B    3347\n",
            "C    3349\n",
            "D    3349\n",
            "Name: class, dtype: int64\n"
          ]
        }
      ],
      "source": [
        "# put your code here\n",
        "# Calculate z-scores\n",
        "measures = ['gripForce', 'sit and bend forward_cm', 'sit-ups counts']\n",
        "for measure in measures:\n",
        "    data[f'{measure}_z'] = (data[measure] - data[measure].mean()) / data[measure].std()\n",
        "\n",
        "# Create overall fitness score\n",
        "data['fitness_score'] = data['gripForce_z'] + data['sit and bend forward_cm_z'] + data['sit-ups counts_z']\n",
        "\n",
        "# Categorize individuals\n",
        "categories = [\"first\", \"second\", \"third\", \"fourth\", \"fifth\"]\n",
        "data['fitness_category'] = pd.qcut(data['fitness_score'], q=5, labels=categories)\n",
        "\n",
        "# a) Report number of individuals in each category\n",
        "print(data['fitness_category'].value_counts().sort_index())\n",
        "\n",
        "#b) Comment on the degree to which your categories correspond to the class column.\n",
        "print(data['class'].value_counts().sort_index())\n"
      ]
    },
    {
      "cell_type": "code",
      "source": [
        "fitness_class_counts = data.groupby(['fitness_category','class']).size().unstack(fill_value=0)\n",
        "print(\"\\nNumber of People from Each Fitness Category in Each Class:\")\n",
        "print(fitness_class_counts)"
      ],
      "metadata": {
        "colab": {
          "base_uri": "https://localhost:8080/"
        },
        "id": "jUmKPmyb9gQq",
        "outputId": "9ac07caa-aae7-4a8c-ca22-622babdbcfbf"
      },
      "execution_count": 147,
      "outputs": [
        {
          "output_type": "stream",
          "name": "stdout",
          "text": [
            "\n",
            "Number of People from Each Fitness Category in Each Class:\n",
            "class                A    B    C     D\n",
            "fitness_category                      \n",
            "first               31  244  698  1706\n",
            "second             358  732  783   805\n",
            "third              728  717  759   475\n",
            "fourth             809  860  751   258\n",
            "fifth             1422  794  358   105\n"
          ]
        }
      ]
    },
    {
      "cell_type": "markdown",
      "source": [
        "(b)\n",
        "\n",
        "First Category for Fitness:\n",
        "\n",
        "In the first fitness category, Class D had the most participants (1,706), followed by Class C (698), Class B (244), and Class A (31).\n",
        "This shows that Class D is made up primarily of people with the lowest fitness ratings.\n",
        "\n",
        "Second category for fitness:\n",
        "\n",
        "Here, the distribution is more evenly distributed, with Classes A, B, and C having a greater proportion of members in the second category than does Class D.\n",
        "\n",
        "Third Category for Fitness:\n",
        "\n",
        "With 728 people, Class A is in the lead, closely followed by Classes B and C. However, Class D experiences a decline with only 475 people.\n",
        "Compared to the first group, the classes are allocated here more fairly.\n",
        "\n",
        "Fourth Category for Fitness:\n",
        "\n",
        "Class B is second in terms of the number of people (809), behind Class A. Class C, however, has experienced a considerable fall, and Class D has experienced a more significant decline.\n",
        "\n",
        "Fifth Category of Fitness:\n",
        "\n",
        "With 1,422 people, Class A outnumbers the other three classes combined in the highest fitness category.\n",
        "As the fitness score rises, the numbers for Classes B and C decrease, and Class D has the lowest representation in the top fitness group.\n"
      ],
      "metadata": {
        "id": "IPKVodTM-oxa"
      }
    },
    {
      "cell_type": "markdown",
      "metadata": {
        "id": "6110q2tRV1XL"
      },
      "source": [
        "* As we can the number of individual that fall into each class are almost same.\n",
        "\n",
        "* we dont observe any specific trend here with the classes, they are equally distributed and consistent."
      ]
    },
    {
      "cell_type": "code",
      "source": [
        "data.head(100)"
      ],
      "metadata": {
        "colab": {
          "base_uri": "https://localhost:8080/",
          "height": 478
        },
        "id": "WGzQnTi-k4Qu",
        "outputId": "ff9bfa6b-8113-4eb1-cb58-032f3af6e5b0"
      },
      "execution_count": null,
      "outputs": [
        {
          "output_type": "execute_result",
          "data": {
            "text/plain": [
              "     age gender  height_cm  weight_kg  body fat_%  diastolic  systolic  \\\n",
              "0   27.0      M      172.3      75.24        21.3       80.0     130.0   \n",
              "1   25.0      M      165.0      55.80        15.7       77.0     126.0   \n",
              "2   31.0      M      179.6      78.00        20.1       92.0     152.0   \n",
              "3   32.0      M      174.5      71.10        18.4       76.0     147.0   \n",
              "4   28.0      M      173.8      67.70        17.1       70.0     127.0   \n",
              "..   ...    ...        ...        ...         ...        ...       ...   \n",
              "95  41.0      M      166.7      65.70        21.5       90.0     151.0   \n",
              "96  50.0      F      158.4      57.20        32.0       69.0     134.0   \n",
              "97  22.0      M      175.8      72.00        30.4       75.0     115.0   \n",
              "98  56.0      M      173.0      70.90        19.5       83.0     135.0   \n",
              "99  46.0      F      159.1      52.20        27.2       84.0     127.0   \n",
              "\n",
              "    gripForce  sit and bend forward_cm  sit-ups counts  broad jump_cm class  \\\n",
              "0        54.9                     18.4            60.0          217.0     C   \n",
              "1        36.4                     16.3            53.0          229.0     A   \n",
              "2        44.8                     12.0            49.0          181.0     C   \n",
              "3        41.4                     15.2            53.0          219.0     B   \n",
              "4        43.5                     27.1            45.0          217.0     B   \n",
              "..        ...                      ...             ...            ...   ...   \n",
              "95       49.6                     18.7            54.0          242.0     A   \n",
              "96       21.1                     18.6            17.0          136.0     C   \n",
              "97       34.6                     19.0            54.0          188.0     C   \n",
              "98       47.9                     11.1            44.0          162.0     B   \n",
              "99       22.9                     17.9            30.0          136.0     D   \n",
              "\n",
              "   age_class        BMI  gripForce_z  sit and bend forward_cm_z  \\\n",
              "0      early  25.344179     1.688127                   0.377303   \n",
              "1      early  20.495868    -0.053071                   0.128979   \n",
              "2      early  24.181428     0.737527                  -0.379495   \n",
              "3      early  23.349562     0.417523                  -0.001096   \n",
              "4      early  22.412439     0.615172                   1.406076   \n",
              "..       ...        ...          ...                        ...   \n",
              "95    middle  23.642542     1.189297                   0.412778   \n",
              "96    middle  22.797419    -1.493090                   0.400953   \n",
              "97     early  23.296719    -0.222485                   0.448253   \n",
              "98    middle  23.689398     1.029295                  -0.485920   \n",
              "99    middle  20.621970    -1.323676                   0.318178   \n",
              "\n",
              "    sit-ups counts_z  fitness_score fitness_category  \n",
              "0           1.416909       3.482339            fifth  \n",
              "1           0.926599       1.002506           fourth  \n",
              "2           0.646422       1.004454           fourth  \n",
              "3           0.926599       1.343026           fourth  \n",
              "4           0.366245       2.387494            fifth  \n",
              "..               ...            ...              ...  \n",
              "95          0.996643       2.598719            fifth  \n",
              "96         -1.594992      -2.687129            first  \n",
              "97          0.996643       1.222411           fourth  \n",
              "98          0.296201       0.839577           fourth  \n",
              "99         -0.684418      -1.689915           second  \n",
              "\n",
              "[100 rows x 19 columns]"
            ],
            "text/html": [
              "\n",
              "  <div id=\"df-6af94810-02bd-49af-be97-e89cfca28cda\" class=\"colab-df-container\">\n",
              "    <div>\n",
              "<style scoped>\n",
              "    .dataframe tbody tr th:only-of-type {\n",
              "        vertical-align: middle;\n",
              "    }\n",
              "\n",
              "    .dataframe tbody tr th {\n",
              "        vertical-align: top;\n",
              "    }\n",
              "\n",
              "    .dataframe thead th {\n",
              "        text-align: right;\n",
              "    }\n",
              "</style>\n",
              "<table border=\"1\" class=\"dataframe\">\n",
              "  <thead>\n",
              "    <tr style=\"text-align: right;\">\n",
              "      <th></th>\n",
              "      <th>age</th>\n",
              "      <th>gender</th>\n",
              "      <th>height_cm</th>\n",
              "      <th>weight_kg</th>\n",
              "      <th>body fat_%</th>\n",
              "      <th>diastolic</th>\n",
              "      <th>systolic</th>\n",
              "      <th>gripForce</th>\n",
              "      <th>sit and bend forward_cm</th>\n",
              "      <th>sit-ups counts</th>\n",
              "      <th>broad jump_cm</th>\n",
              "      <th>class</th>\n",
              "      <th>age_class</th>\n",
              "      <th>BMI</th>\n",
              "      <th>gripForce_z</th>\n",
              "      <th>sit and bend forward_cm_z</th>\n",
              "      <th>sit-ups counts_z</th>\n",
              "      <th>fitness_score</th>\n",
              "      <th>fitness_category</th>\n",
              "    </tr>\n",
              "  </thead>\n",
              "  <tbody>\n",
              "    <tr>\n",
              "      <th>0</th>\n",
              "      <td>27.0</td>\n",
              "      <td>M</td>\n",
              "      <td>172.3</td>\n",
              "      <td>75.24</td>\n",
              "      <td>21.3</td>\n",
              "      <td>80.0</td>\n",
              "      <td>130.0</td>\n",
              "      <td>54.9</td>\n",
              "      <td>18.4</td>\n",
              "      <td>60.0</td>\n",
              "      <td>217.0</td>\n",
              "      <td>C</td>\n",
              "      <td>early</td>\n",
              "      <td>25.344179</td>\n",
              "      <td>1.688127</td>\n",
              "      <td>0.377303</td>\n",
              "      <td>1.416909</td>\n",
              "      <td>3.482339</td>\n",
              "      <td>fifth</td>\n",
              "    </tr>\n",
              "    <tr>\n",
              "      <th>1</th>\n",
              "      <td>25.0</td>\n",
              "      <td>M</td>\n",
              "      <td>165.0</td>\n",
              "      <td>55.80</td>\n",
              "      <td>15.7</td>\n",
              "      <td>77.0</td>\n",
              "      <td>126.0</td>\n",
              "      <td>36.4</td>\n",
              "      <td>16.3</td>\n",
              "      <td>53.0</td>\n",
              "      <td>229.0</td>\n",
              "      <td>A</td>\n",
              "      <td>early</td>\n",
              "      <td>20.495868</td>\n",
              "      <td>-0.053071</td>\n",
              "      <td>0.128979</td>\n",
              "      <td>0.926599</td>\n",
              "      <td>1.002506</td>\n",
              "      <td>fourth</td>\n",
              "    </tr>\n",
              "    <tr>\n",
              "      <th>2</th>\n",
              "      <td>31.0</td>\n",
              "      <td>M</td>\n",
              "      <td>179.6</td>\n",
              "      <td>78.00</td>\n",
              "      <td>20.1</td>\n",
              "      <td>92.0</td>\n",
              "      <td>152.0</td>\n",
              "      <td>44.8</td>\n",
              "      <td>12.0</td>\n",
              "      <td>49.0</td>\n",
              "      <td>181.0</td>\n",
              "      <td>C</td>\n",
              "      <td>early</td>\n",
              "      <td>24.181428</td>\n",
              "      <td>0.737527</td>\n",
              "      <td>-0.379495</td>\n",
              "      <td>0.646422</td>\n",
              "      <td>1.004454</td>\n",
              "      <td>fourth</td>\n",
              "    </tr>\n",
              "    <tr>\n",
              "      <th>3</th>\n",
              "      <td>32.0</td>\n",
              "      <td>M</td>\n",
              "      <td>174.5</td>\n",
              "      <td>71.10</td>\n",
              "      <td>18.4</td>\n",
              "      <td>76.0</td>\n",
              "      <td>147.0</td>\n",
              "      <td>41.4</td>\n",
              "      <td>15.2</td>\n",
              "      <td>53.0</td>\n",
              "      <td>219.0</td>\n",
              "      <td>B</td>\n",
              "      <td>early</td>\n",
              "      <td>23.349562</td>\n",
              "      <td>0.417523</td>\n",
              "      <td>-0.001096</td>\n",
              "      <td>0.926599</td>\n",
              "      <td>1.343026</td>\n",
              "      <td>fourth</td>\n",
              "    </tr>\n",
              "    <tr>\n",
              "      <th>4</th>\n",
              "      <td>28.0</td>\n",
              "      <td>M</td>\n",
              "      <td>173.8</td>\n",
              "      <td>67.70</td>\n",
              "      <td>17.1</td>\n",
              "      <td>70.0</td>\n",
              "      <td>127.0</td>\n",
              "      <td>43.5</td>\n",
              "      <td>27.1</td>\n",
              "      <td>45.0</td>\n",
              "      <td>217.0</td>\n",
              "      <td>B</td>\n",
              "      <td>early</td>\n",
              "      <td>22.412439</td>\n",
              "      <td>0.615172</td>\n",
              "      <td>1.406076</td>\n",
              "      <td>0.366245</td>\n",
              "      <td>2.387494</td>\n",
              "      <td>fifth</td>\n",
              "    </tr>\n",
              "    <tr>\n",
              "      <th>...</th>\n",
              "      <td>...</td>\n",
              "      <td>...</td>\n",
              "      <td>...</td>\n",
              "      <td>...</td>\n",
              "      <td>...</td>\n",
              "      <td>...</td>\n",
              "      <td>...</td>\n",
              "      <td>...</td>\n",
              "      <td>...</td>\n",
              "      <td>...</td>\n",
              "      <td>...</td>\n",
              "      <td>...</td>\n",
              "      <td>...</td>\n",
              "      <td>...</td>\n",
              "      <td>...</td>\n",
              "      <td>...</td>\n",
              "      <td>...</td>\n",
              "      <td>...</td>\n",
              "      <td>...</td>\n",
              "    </tr>\n",
              "    <tr>\n",
              "      <th>95</th>\n",
              "      <td>41.0</td>\n",
              "      <td>M</td>\n",
              "      <td>166.7</td>\n",
              "      <td>65.70</td>\n",
              "      <td>21.5</td>\n",
              "      <td>90.0</td>\n",
              "      <td>151.0</td>\n",
              "      <td>49.6</td>\n",
              "      <td>18.7</td>\n",
              "      <td>54.0</td>\n",
              "      <td>242.0</td>\n",
              "      <td>A</td>\n",
              "      <td>middle</td>\n",
              "      <td>23.642542</td>\n",
              "      <td>1.189297</td>\n",
              "      <td>0.412778</td>\n",
              "      <td>0.996643</td>\n",
              "      <td>2.598719</td>\n",
              "      <td>fifth</td>\n",
              "    </tr>\n",
              "    <tr>\n",
              "      <th>96</th>\n",
              "      <td>50.0</td>\n",
              "      <td>F</td>\n",
              "      <td>158.4</td>\n",
              "      <td>57.20</td>\n",
              "      <td>32.0</td>\n",
              "      <td>69.0</td>\n",
              "      <td>134.0</td>\n",
              "      <td>21.1</td>\n",
              "      <td>18.6</td>\n",
              "      <td>17.0</td>\n",
              "      <td>136.0</td>\n",
              "      <td>C</td>\n",
              "      <td>middle</td>\n",
              "      <td>22.797419</td>\n",
              "      <td>-1.493090</td>\n",
              "      <td>0.400953</td>\n",
              "      <td>-1.594992</td>\n",
              "      <td>-2.687129</td>\n",
              "      <td>first</td>\n",
              "    </tr>\n",
              "    <tr>\n",
              "      <th>97</th>\n",
              "      <td>22.0</td>\n",
              "      <td>M</td>\n",
              "      <td>175.8</td>\n",
              "      <td>72.00</td>\n",
              "      <td>30.4</td>\n",
              "      <td>75.0</td>\n",
              "      <td>115.0</td>\n",
              "      <td>34.6</td>\n",
              "      <td>19.0</td>\n",
              "      <td>54.0</td>\n",
              "      <td>188.0</td>\n",
              "      <td>C</td>\n",
              "      <td>early</td>\n",
              "      <td>23.296719</td>\n",
              "      <td>-0.222485</td>\n",
              "      <td>0.448253</td>\n",
              "      <td>0.996643</td>\n",
              "      <td>1.222411</td>\n",
              "      <td>fourth</td>\n",
              "    </tr>\n",
              "    <tr>\n",
              "      <th>98</th>\n",
              "      <td>56.0</td>\n",
              "      <td>M</td>\n",
              "      <td>173.0</td>\n",
              "      <td>70.90</td>\n",
              "      <td>19.5</td>\n",
              "      <td>83.0</td>\n",
              "      <td>135.0</td>\n",
              "      <td>47.9</td>\n",
              "      <td>11.1</td>\n",
              "      <td>44.0</td>\n",
              "      <td>162.0</td>\n",
              "      <td>B</td>\n",
              "      <td>middle</td>\n",
              "      <td>23.689398</td>\n",
              "      <td>1.029295</td>\n",
              "      <td>-0.485920</td>\n",
              "      <td>0.296201</td>\n",
              "      <td>0.839577</td>\n",
              "      <td>fourth</td>\n",
              "    </tr>\n",
              "    <tr>\n",
              "      <th>99</th>\n",
              "      <td>46.0</td>\n",
              "      <td>F</td>\n",
              "      <td>159.1</td>\n",
              "      <td>52.20</td>\n",
              "      <td>27.2</td>\n",
              "      <td>84.0</td>\n",
              "      <td>127.0</td>\n",
              "      <td>22.9</td>\n",
              "      <td>17.9</td>\n",
              "      <td>30.0</td>\n",
              "      <td>136.0</td>\n",
              "      <td>D</td>\n",
              "      <td>middle</td>\n",
              "      <td>20.621970</td>\n",
              "      <td>-1.323676</td>\n",
              "      <td>0.318178</td>\n",
              "      <td>-0.684418</td>\n",
              "      <td>-1.689915</td>\n",
              "      <td>second</td>\n",
              "    </tr>\n",
              "  </tbody>\n",
              "</table>\n",
              "<p>100 rows × 19 columns</p>\n",
              "</div>\n",
              "    <div class=\"colab-df-buttons\">\n",
              "\n",
              "  <div class=\"colab-df-container\">\n",
              "    <button class=\"colab-df-convert\" onclick=\"convertToInteractive('df-6af94810-02bd-49af-be97-e89cfca28cda')\"\n",
              "            title=\"Convert this dataframe to an interactive table.\"\n",
              "            style=\"display:none;\">\n",
              "\n",
              "  <svg xmlns=\"http://www.w3.org/2000/svg\" height=\"24px\" viewBox=\"0 -960 960 960\">\n",
              "    <path d=\"M120-120v-720h720v720H120Zm60-500h600v-160H180v160Zm220 220h160v-160H400v160Zm0 220h160v-160H400v160ZM180-400h160v-160H180v160Zm440 0h160v-160H620v160ZM180-180h160v-160H180v160Zm440 0h160v-160H620v160Z\"/>\n",
              "  </svg>\n",
              "    </button>\n",
              "\n",
              "  <style>\n",
              "    .colab-df-container {\n",
              "      display:flex;\n",
              "      gap: 12px;\n",
              "    }\n",
              "\n",
              "    .colab-df-convert {\n",
              "      background-color: #E8F0FE;\n",
              "      border: none;\n",
              "      border-radius: 50%;\n",
              "      cursor: pointer;\n",
              "      display: none;\n",
              "      fill: #1967D2;\n",
              "      height: 32px;\n",
              "      padding: 0 0 0 0;\n",
              "      width: 32px;\n",
              "    }\n",
              "\n",
              "    .colab-df-convert:hover {\n",
              "      background-color: #E2EBFA;\n",
              "      box-shadow: 0px 1px 2px rgba(60, 64, 67, 0.3), 0px 1px 3px 1px rgba(60, 64, 67, 0.15);\n",
              "      fill: #174EA6;\n",
              "    }\n",
              "\n",
              "    .colab-df-buttons div {\n",
              "      margin-bottom: 4px;\n",
              "    }\n",
              "\n",
              "    [theme=dark] .colab-df-convert {\n",
              "      background-color: #3B4455;\n",
              "      fill: #D2E3FC;\n",
              "    }\n",
              "\n",
              "    [theme=dark] .colab-df-convert:hover {\n",
              "      background-color: #434B5C;\n",
              "      box-shadow: 0px 1px 3px 1px rgba(0, 0, 0, 0.15);\n",
              "      filter: drop-shadow(0px 1px 2px rgba(0, 0, 0, 0.3));\n",
              "      fill: #FFFFFF;\n",
              "    }\n",
              "  </style>\n",
              "\n",
              "    <script>\n",
              "      const buttonEl =\n",
              "        document.querySelector('#df-6af94810-02bd-49af-be97-e89cfca28cda button.colab-df-convert');\n",
              "      buttonEl.style.display =\n",
              "        google.colab.kernel.accessAllowed ? 'block' : 'none';\n",
              "\n",
              "      async function convertToInteractive(key) {\n",
              "        const element = document.querySelector('#df-6af94810-02bd-49af-be97-e89cfca28cda');\n",
              "        const dataTable =\n",
              "          await google.colab.kernel.invokeFunction('convertToInteractive',\n",
              "                                                    [key], {});\n",
              "        if (!dataTable) return;\n",
              "\n",
              "        const docLinkHtml = 'Like what you see? Visit the ' +\n",
              "          '<a target=\"_blank\" href=https://colab.research.google.com/notebooks/data_table.ipynb>data table notebook</a>'\n",
              "          + ' to learn more about interactive tables.';\n",
              "        element.innerHTML = '';\n",
              "        dataTable['output_type'] = 'display_data';\n",
              "        await google.colab.output.renderOutput(dataTable, element);\n",
              "        const docLink = document.createElement('div');\n",
              "        docLink.innerHTML = docLinkHtml;\n",
              "        element.appendChild(docLink);\n",
              "      }\n",
              "    </script>\n",
              "  </div>\n",
              "\n",
              "\n",
              "<div id=\"df-ef829de1-db49-4b8b-9fdf-476b455b1751\">\n",
              "  <button class=\"colab-df-quickchart\" onclick=\"quickchart('df-ef829de1-db49-4b8b-9fdf-476b455b1751')\"\n",
              "            title=\"Suggest charts.\"\n",
              "            style=\"display:none;\">\n",
              "\n",
              "<svg xmlns=\"http://www.w3.org/2000/svg\" height=\"24px\"viewBox=\"0 0 24 24\"\n",
              "     width=\"24px\">\n",
              "    <g>\n",
              "        <path d=\"M19 3H5c-1.1 0-2 .9-2 2v14c0 1.1.9 2 2 2h14c1.1 0 2-.9 2-2V5c0-1.1-.9-2-2-2zM9 17H7v-7h2v7zm4 0h-2V7h2v10zm4 0h-2v-4h2v4z\"/>\n",
              "    </g>\n",
              "</svg>\n",
              "  </button>\n",
              "\n",
              "<style>\n",
              "  .colab-df-quickchart {\n",
              "      --bg-color: #E8F0FE;\n",
              "      --fill-color: #1967D2;\n",
              "      --hover-bg-color: #E2EBFA;\n",
              "      --hover-fill-color: #174EA6;\n",
              "      --disabled-fill-color: #AAA;\n",
              "      --disabled-bg-color: #DDD;\n",
              "  }\n",
              "\n",
              "  [theme=dark] .colab-df-quickchart {\n",
              "      --bg-color: #3B4455;\n",
              "      --fill-color: #D2E3FC;\n",
              "      --hover-bg-color: #434B5C;\n",
              "      --hover-fill-color: #FFFFFF;\n",
              "      --disabled-bg-color: #3B4455;\n",
              "      --disabled-fill-color: #666;\n",
              "  }\n",
              "\n",
              "  .colab-df-quickchart {\n",
              "    background-color: var(--bg-color);\n",
              "    border: none;\n",
              "    border-radius: 50%;\n",
              "    cursor: pointer;\n",
              "    display: none;\n",
              "    fill: var(--fill-color);\n",
              "    height: 32px;\n",
              "    padding: 0;\n",
              "    width: 32px;\n",
              "  }\n",
              "\n",
              "  .colab-df-quickchart:hover {\n",
              "    background-color: var(--hover-bg-color);\n",
              "    box-shadow: 0 1px 2px rgba(60, 64, 67, 0.3), 0 1px 3px 1px rgba(60, 64, 67, 0.15);\n",
              "    fill: var(--button-hover-fill-color);\n",
              "  }\n",
              "\n",
              "  .colab-df-quickchart-complete:disabled,\n",
              "  .colab-df-quickchart-complete:disabled:hover {\n",
              "    background-color: var(--disabled-bg-color);\n",
              "    fill: var(--disabled-fill-color);\n",
              "    box-shadow: none;\n",
              "  }\n",
              "\n",
              "  .colab-df-spinner {\n",
              "    border: 2px solid var(--fill-color);\n",
              "    border-color: transparent;\n",
              "    border-bottom-color: var(--fill-color);\n",
              "    animation:\n",
              "      spin 1s steps(1) infinite;\n",
              "  }\n",
              "\n",
              "  @keyframes spin {\n",
              "    0% {\n",
              "      border-color: transparent;\n",
              "      border-bottom-color: var(--fill-color);\n",
              "      border-left-color: var(--fill-color);\n",
              "    }\n",
              "    20% {\n",
              "      border-color: transparent;\n",
              "      border-left-color: var(--fill-color);\n",
              "      border-top-color: var(--fill-color);\n",
              "    }\n",
              "    30% {\n",
              "      border-color: transparent;\n",
              "      border-left-color: var(--fill-color);\n",
              "      border-top-color: var(--fill-color);\n",
              "      border-right-color: var(--fill-color);\n",
              "    }\n",
              "    40% {\n",
              "      border-color: transparent;\n",
              "      border-right-color: var(--fill-color);\n",
              "      border-top-color: var(--fill-color);\n",
              "    }\n",
              "    60% {\n",
              "      border-color: transparent;\n",
              "      border-right-color: var(--fill-color);\n",
              "    }\n",
              "    80% {\n",
              "      border-color: transparent;\n",
              "      border-right-color: var(--fill-color);\n",
              "      border-bottom-color: var(--fill-color);\n",
              "    }\n",
              "    90% {\n",
              "      border-color: transparent;\n",
              "      border-bottom-color: var(--fill-color);\n",
              "    }\n",
              "  }\n",
              "</style>\n",
              "\n",
              "  <script>\n",
              "    async function quickchart(key) {\n",
              "      const quickchartButtonEl =\n",
              "        document.querySelector('#' + key + ' button');\n",
              "      quickchartButtonEl.disabled = true;  // To prevent multiple clicks.\n",
              "      quickchartButtonEl.classList.add('colab-df-spinner');\n",
              "      try {\n",
              "        const charts = await google.colab.kernel.invokeFunction(\n",
              "            'suggestCharts', [key], {});\n",
              "      } catch (error) {\n",
              "        console.error('Error during call to suggestCharts:', error);\n",
              "      }\n",
              "      quickchartButtonEl.classList.remove('colab-df-spinner');\n",
              "      quickchartButtonEl.classList.add('colab-df-quickchart-complete');\n",
              "    }\n",
              "    (() => {\n",
              "      let quickchartButtonEl =\n",
              "        document.querySelector('#df-ef829de1-db49-4b8b-9fdf-476b455b1751 button');\n",
              "      quickchartButtonEl.style.display =\n",
              "        google.colab.kernel.accessAllowed ? 'block' : 'none';\n",
              "    })();\n",
              "  </script>\n",
              "</div>\n",
              "    </div>\n",
              "  </div>\n"
            ]
          },
          "metadata": {},
          "execution_count": 142
        }
      ]
    },
    {
      "cell_type": "markdown",
      "metadata": {
        "id": "zKkwrNfbJ9zN"
      },
      "source": [
        "### IMPORTANT: Ensure your complete notebook runs without errors from top to bottom (check by using \"Run All\").\n",
        "\n",
        "## Please submit your completed notebook in .IPYNB and .HTML formats via Canvas"
      ]
    }
  ],
  "metadata": {
    "colab": {
      "provenance": []
    },
    "kernelspec": {
      "display_name": "Python 3 (ipykernel)",
      "language": "python",
      "name": "python3"
    },
    "language_info": {
      "codemirror_mode": {
        "name": "ipython",
        "version": 3
      },
      "file_extension": ".py",
      "mimetype": "text/x-python",
      "name": "python",
      "nbconvert_exporter": "python",
      "pygments_lexer": "ipython3",
      "version": "3.9.17"
    }
  },
  "nbformat": 4,
  "nbformat_minor": 0
}