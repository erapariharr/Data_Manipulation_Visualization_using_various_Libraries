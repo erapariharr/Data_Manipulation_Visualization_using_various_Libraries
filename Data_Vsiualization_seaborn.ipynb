{
 "cells": [
  {
   "cell_type": "markdown",
   "id": "2343b793-1865-4ead-9a36-b352c6cf3da3",
   "metadata": {},
   "source": [
    "# SI 618 - Homework #3: Data Visualization\n",
    "\n",
    "Version 2023.09.21.1.CT"
   ]
  },
  {
   "cell_type": "markdown",
   "id": "22afd6d5-4b68-4dce-b63a-53f9fb61b43e",
   "metadata": {},
   "source": [
    "For this homework assignment, you will the small MovieLens dataset, available via https://files.grouplens.org/datasets/movielens/ml-latest-small.zip. Download that file to get the data, and also take some time to go through the [README](https://files.grouplens.org/datasets/movielens/ml-latest-small-README.html) file.\n",
    "\n",
    "Be sure to download your own copy of the dataset -- do not rely on data that you may have downloaded for a previous assignment."
   ]
  },
  {
   "cell_type": "markdown",
   "id": "090b1ecf-6550-473d-a139-8577804076b2",
   "metadata": {},
   "source": [
    "A major challenge for you in this assignment is to devise a plan to tackle each question.  The question states the overall goal, and in some cases hints are provided, but you will need to think carefully about what data you need to answer each of the questions.  You may need to do some preprocessing of the data to get it into a form that you can use for visualization.\n"
   ]
  },
  {
   "cell_type": "markdown",
   "id": "9a1242f4-5aad-442a-9b37-ffa9cba0d855",
   "metadata": {},
   "source": [
    "Each of the questions is worth the same number of points.  Points will be allocated according to the following rubric:\n",
    "\n",
    "- 90-100%: Question is correctly and completely answered.  Answer consists of well-written code that conforms to [PEP 8](https://www.python.org/dev/peps/pep-0008/) guidelines and is \n",
    "accompanied by a written interpretation in a Markdown block.  Written interpretation does not contain spelling, grammar or stylistic errors (see [Strunk & White](https://drive.google.com/file/d/1L0P7xJwjUGBvyb49mL3dw1Bt7hzRTiTl/view?usp=sharing) for a detailed specifications).  Minor problems, such as formatting, incorrect submissions, missing names, etc. will result in less than 100%.\n",
    "- 75-85% : Answer is mostly complete and correct; two or fewer noticeable omissions or errors.  Minor stylistic flaws, either in code or in\n",
    "written interpretation.\n",
    "- 50-70%: Answer has significant omissions or errors; Noticeable departure from PEP-8 guildelines and/or moderate spelling, grammar, or style issues\n",
    "in written interpretations.\n",
    "- 25-45%: Question is perfunctorily attempted.  Substantial parts are missing or incorrect.\n",
    "- 0 points: Question not attempted."
   ]
  },
  {
   "cell_type": "markdown",
   "id": "a2c8b3f1",
   "metadata": {},
   "source": [
    "**NOTE**: You are only permitted to use the pandas, Seaborn, and matplotlib libraries for creating visualizations in this assignment. You may use other libraries for other purposes, but you may not use them to create visualizations."
   ]
  },
  {
   "cell_type": "markdown",
   "id": "3f9eab8a-f241-4c2d-b3ce-203c1b01e6ea",
   "metadata": {},
   "source": [
    "<hr>"
   ]
  },
  {
   "cell_type": "markdown",
   "id": "bea547eb-d897-44cd-a120-5c0305558586",
   "metadata": {},
   "source": [
    "First, let's do our usual imports (you might need to import additional modules depending on how you choose to tackle each question):"
   ]
  },
  {
   "cell_type": "code",
   "execution_count": 1,
   "id": "65729851-f83f-42e9-ae42-5703e532a3d4",
   "metadata": {},
   "outputs": [],
   "source": [
    "import pandas as pd\n",
    "import seaborn as sns"
   ]
  },
  {
   "cell_type": "markdown",
   "id": "86e988d9-21a1-44dc-8bdc-06cfdd2e96fe",
   "metadata": {},
   "source": [
    "And let's read the data (note: you might need to include path information if the data files are not in the same directory as this notebook):"
   ]
  },
  {
   "cell_type": "code",
   "execution_count": 2,
   "id": "ed07e396-e11f-4960-8e7d-0239fe812656",
   "metadata": {},
   "outputs": [],
   "source": [
    "movies = pd.read_csv('~/Downloads/ml-latest-small/movies.csv')\n",
    "ratings = pd.read_csv('~/Downloads/ml-latest-small/ratings.csv')\n",
    "tags = pd.read_csv('~/Downloads/ml-latest-small/tags.csv')"
   ]
  },
  {
   "cell_type": "code",
   "execution_count": 3,
   "id": "5944e271-45eb-49df-a623-72ff1a6bce25",
   "metadata": {},
   "outputs": [
    {
     "data": {
      "text/html": [
       "<div>\n",
       "<style scoped>\n",
       "    .dataframe tbody tr th:only-of-type {\n",
       "        vertical-align: middle;\n",
       "    }\n",
       "\n",
       "    .dataframe tbody tr th {\n",
       "        vertical-align: top;\n",
       "    }\n",
       "\n",
       "    .dataframe thead th {\n",
       "        text-align: right;\n",
       "    }\n",
       "</style>\n",
       "<table border=\"1\" class=\"dataframe\">\n",
       "  <thead>\n",
       "    <tr style=\"text-align: right;\">\n",
       "      <th></th>\n",
       "      <th>movieId</th>\n",
       "      <th>title</th>\n",
       "      <th>genres</th>\n",
       "    </tr>\n",
       "  </thead>\n",
       "  <tbody>\n",
       "    <tr>\n",
       "      <th>0</th>\n",
       "      <td>1</td>\n",
       "      <td>Toy Story (1995)</td>\n",
       "      <td>Adventure|Animation|Children|Comedy|Fantasy</td>\n",
       "    </tr>\n",
       "    <tr>\n",
       "      <th>1</th>\n",
       "      <td>2</td>\n",
       "      <td>Jumanji (1995)</td>\n",
       "      <td>Adventure|Children|Fantasy</td>\n",
       "    </tr>\n",
       "    <tr>\n",
       "      <th>2</th>\n",
       "      <td>3</td>\n",
       "      <td>Grumpier Old Men (1995)</td>\n",
       "      <td>Comedy|Romance</td>\n",
       "    </tr>\n",
       "    <tr>\n",
       "      <th>3</th>\n",
       "      <td>4</td>\n",
       "      <td>Waiting to Exhale (1995)</td>\n",
       "      <td>Comedy|Drama|Romance</td>\n",
       "    </tr>\n",
       "    <tr>\n",
       "      <th>4</th>\n",
       "      <td>5</td>\n",
       "      <td>Father of the Bride Part II (1995)</td>\n",
       "      <td>Comedy</td>\n",
       "    </tr>\n",
       "    <tr>\n",
       "      <th>...</th>\n",
       "      <td>...</td>\n",
       "      <td>...</td>\n",
       "      <td>...</td>\n",
       "    </tr>\n",
       "    <tr>\n",
       "      <th>9737</th>\n",
       "      <td>193581</td>\n",
       "      <td>Black Butler: Book of the Atlantic (2017)</td>\n",
       "      <td>Action|Animation|Comedy|Fantasy</td>\n",
       "    </tr>\n",
       "    <tr>\n",
       "      <th>9738</th>\n",
       "      <td>193583</td>\n",
       "      <td>No Game No Life: Zero (2017)</td>\n",
       "      <td>Animation|Comedy|Fantasy</td>\n",
       "    </tr>\n",
       "    <tr>\n",
       "      <th>9739</th>\n",
       "      <td>193585</td>\n",
       "      <td>Flint (2017)</td>\n",
       "      <td>Drama</td>\n",
       "    </tr>\n",
       "    <tr>\n",
       "      <th>9740</th>\n",
       "      <td>193587</td>\n",
       "      <td>Bungo Stray Dogs: Dead Apple (2018)</td>\n",
       "      <td>Action|Animation</td>\n",
       "    </tr>\n",
       "    <tr>\n",
       "      <th>9741</th>\n",
       "      <td>193609</td>\n",
       "      <td>Andrew Dice Clay: Dice Rules (1991)</td>\n",
       "      <td>Comedy</td>\n",
       "    </tr>\n",
       "  </tbody>\n",
       "</table>\n",
       "<p>9742 rows × 3 columns</p>\n",
       "</div>"
      ],
      "text/plain": [
       "      movieId                                      title  \\\n",
       "0           1                           Toy Story (1995)   \n",
       "1           2                             Jumanji (1995)   \n",
       "2           3                    Grumpier Old Men (1995)   \n",
       "3           4                   Waiting to Exhale (1995)   \n",
       "4           5         Father of the Bride Part II (1995)   \n",
       "...       ...                                        ...   \n",
       "9737   193581  Black Butler: Book of the Atlantic (2017)   \n",
       "9738   193583               No Game No Life: Zero (2017)   \n",
       "9739   193585                               Flint (2017)   \n",
       "9740   193587        Bungo Stray Dogs: Dead Apple (2018)   \n",
       "9741   193609        Andrew Dice Clay: Dice Rules (1991)   \n",
       "\n",
       "                                           genres  \n",
       "0     Adventure|Animation|Children|Comedy|Fantasy  \n",
       "1                      Adventure|Children|Fantasy  \n",
       "2                                  Comedy|Romance  \n",
       "3                            Comedy|Drama|Romance  \n",
       "4                                          Comedy  \n",
       "...                                           ...  \n",
       "9737              Action|Animation|Comedy|Fantasy  \n",
       "9738                     Animation|Comedy|Fantasy  \n",
       "9739                                        Drama  \n",
       "9740                             Action|Animation  \n",
       "9741                                       Comedy  \n",
       "\n",
       "[9742 rows x 3 columns]"
      ]
     },
     "execution_count": 3,
     "metadata": {},
     "output_type": "execute_result"
    }
   ],
   "source": [
    "movies"
   ]
  },
  {
   "cell_type": "markdown",
   "id": "62428ca4-c812-46ae-a2ed-df339529e6bc",
   "metadata": {
    "tags": []
   },
   "source": [
    "### Q1: \n",
    "Using the `movies` DataFrame, create a visualization that shows the number of movies for each decade from the 1900s to the 2010s.  Use the number in parentheses (e.g. (1975)) at the end of the title as the year.  Drop all rows that do not have a valid year. Be sure to include a title and axis labels."
   ]
  },
  {
   "cell_type": "code",
   "execution_count": 24,
   "id": "7dd6a834-1f7d-4887-98ff-be546002b411",
   "metadata": {},
   "outputs": [],
   "source": [
    "# insert your code here"
   ]
  },
  {
   "cell_type": "markdown",
   "id": "e9ba7a23-1d5a-4588-8983-e875316621bd",
   "metadata": {
    "tags": []
   },
   "source": [
    "### Q2: \n",
    "Create a visualization that shows the number of movies in each genre.\n",
    "\n",
    "**Hint**: the `pd.DataFrame.explode()` function might be useful here.\n",
    "\n",
    "Be sure that your axis labels are legible!"
   ]
  },
  {
   "cell_type": "code",
   "execution_count": 25,
   "id": "3c6c1961-cb08-4da3-b8cc-4125f383b0da",
   "metadata": {},
   "outputs": [],
   "source": [
    "# insert your code here"
   ]
  },
  {
   "cell_type": "markdown",
   "id": "a026eef1-87e1-4ad6-879d-9256eea1c131",
   "metadata": {},
   "source": [
    "### Q3a: \n",
    "Create a visualization showing the distribution of the values from the `rating` column of the `ratings` DataFrame.  \n"
   ]
  },
  {
   "cell_type": "code",
   "execution_count": 26,
   "id": "c3837eaa-85ee-47d0-80de-ae572af3e8b2",
   "metadata": {},
   "outputs": [],
   "source": [
    "# insert your code here"
   ]
  },
  {
   "cell_type": "markdown",
   "id": "60e5aa11-46b7-4614-8500-ef4c1c5ff4af",
   "metadata": {},
   "source": [
    "### Q3b:\n",
    "What do you notice about the relative number of whole-number ratings (1,2,3,4,and 5) compared to the half-ratings (0.5, 1.5, 2.5, 3.5, 4.5)?  Investigate the data further to see if you can figure out why that's the case.  (Hint: a scatterplot showing the ratings vs. time might be helpful.)"
   ]
  },
  {
   "cell_type": "markdown",
   "id": "8a94a151-5680-466a-88fe-64e0a9a9e67a",
   "metadata": {},
   "source": [
    "Insert your observations here."
   ]
  },
  {
   "cell_type": "code",
   "execution_count": 27,
   "id": "0765f893-0fd0-436c-ab47-6e22e171e785",
   "metadata": {},
   "outputs": [],
   "source": [
    "# insert your code here"
   ]
  },
  {
   "cell_type": "markdown",
   "id": "eaf33988-d115-49e1-b966-9d3495e10478",
   "metadata": {},
   "source": [
    "### Q4:\n",
    "Write code to confirm the assertion that the ratings [\"were created by 610 users between March 29, 1996 and September 24, 2018.\"](https://files.grouplens.org/datasets/movielens/ml-latest-small-README.html)."
   ]
  },
  {
   "cell_type": "code",
   "execution_count": 28,
   "id": "d97ab38b-d2e6-4f0c-b6a3-0f4974b2c8e9",
   "metadata": {},
   "outputs": [],
   "source": [
    "# insert your code here"
   ]
  },
  {
   "cell_type": "markdown",
   "id": "5bc0716e-f441-4aa0-a245-61653cac4c0b",
   "metadata": {},
   "source": [
    "### Q5:\n",
    "Create a visualization showing the number of ratings produced on each day of the week.  \n",
    "\n",
    "Hint: the `pd.to_datetime()` function might be useful here, as well as the `dt` accessor.\n",
    "\n",
    "Make sure your axis labels are in a reasonable order."
   ]
  },
  {
   "cell_type": "code",
   "execution_count": 29,
   "id": "4c31e273-9c2f-4048-8e51-a50adb430788",
   "metadata": {},
   "outputs": [],
   "source": [
    "# insert your code here"
   ]
  },
  {
   "cell_type": "markdown",
   "id": "f860d725-0b0f-4f41-b770-9836d0da2235",
   "metadata": {},
   "source": [
    "### Q6a:\n",
    "\n",
    "Create a new column called `taglength` in the `tags` DataFrame that contains the number of **characters** in the tag.\n",
    "\n",
    "**Hint:** the `str.len()` function might be useful here."
   ]
  },
  {
   "cell_type": "code",
   "execution_count": 30,
   "id": "931fe2d4-60e8-4696-a0b5-04111df1abc4",
   "metadata": {},
   "outputs": [],
   "source": [
    "# insert your code here"
   ]
  },
  {
   "cell_type": "markdown",
   "id": "6f81e312-bc0a-44c5-b9ba-5ce5e5931adc",
   "metadata": {},
   "source": [
    "### Q6b: \n",
    "Create a histogram of your newly created `taglength` column.  Experiment with different numbers of bins (or binwidths) until you're happy with the representation."
   ]
  },
  {
   "cell_type": "code",
   "execution_count": 4,
   "id": "d0935b2c",
   "metadata": {},
   "outputs": [],
   "source": [
    "# insert your code here"
   ]
  },
  {
   "cell_type": "markdown",
   "id": "38ee632f",
   "metadata": {},
   "source": [
    "### Q7:\n",
    "Create a visualization that shows the average rating for each genre.\n"
   ]
  },
  {
   "cell_type": "code",
   "execution_count": 5,
   "id": "4a26fbad",
   "metadata": {},
   "outputs": [],
   "source": [
    "# insert your code here"
   ]
  },
  {
   "cell_type": "markdown",
   "id": "df3109b1",
   "metadata": {},
   "source": [
    "### Q8:\n",
    "Create a visualization that shows the distribution of the **number** of ratings of \"good\" movies (i.e., those with a mean rating of 3.5 or highter) and \"bad\" movies (i.e., those with a mean rating of less than 3.5), broken down by the decade when the movie was released.\n",
    "\n",
    "**Hint:** You will need to join the `movies` and `ratings` DataFrames to get the decade information.\n",
    "\n",
    "**Hint:** You may want to create a box plot or a violin plot (or both)."
   ]
  },
  {
   "cell_type": "code",
   "execution_count": 6,
   "id": "0cd20f9f",
   "metadata": {},
   "outputs": [],
   "source": [
    "# insert your code here"
   ]
  },
  {
   "cell_type": "markdown",
   "id": "3d295e73-728b-4013-bada-acaf58b0bc5d",
   "metadata": {},
   "source": [
    "## END OF NOTEBOOK"
   ]
  },
  {
   "cell_type": "code",
   "execution_count": null,
   "id": "3450635b-a4f2-4d21-a5fe-0ef4684be63a",
   "metadata": {},
   "outputs": [],
   "source": []
  }
 ],
 "metadata": {
  "kernelspec": {
   "display_name": "Python 3 (ipykernel)",
   "language": "python",
   "name": "python3"
  },
  "language_info": {
   "codemirror_mode": {
    "name": "ipython",
    "version": 3
   },
   "file_extension": ".py",
   "mimetype": "text/x-python",
   "name": "python",
   "nbconvert_exporter": "python",
   "pygments_lexer": "ipython3",
   "version": "3.11.4"
  }
 },
 "nbformat": 4,
 "nbformat_minor": 5
}
